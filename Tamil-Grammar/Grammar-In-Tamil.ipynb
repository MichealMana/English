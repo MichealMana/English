{
 "cells": [
  {
   "cell_type": "markdown",
   "metadata": {},
   "source": [
    "<h2 align=\"center\"><b>Grammar In Tamil</b></h2>"
   ]
  },
  {
   "cell_type": "markdown",
   "metadata": {},
   "source": [
    "&nbsp;"
   ]
  },
  {
   "cell_type": "markdown",
   "metadata": {},
   "source": [
    " * [**1.SENTENCE**](#SENTENCE)\n",
    " * [**2.SUBJECT & PREDICATE**](#SUBJECT-&-PREDICATE)\n",
    " * [**3.TYPES OF SENTENCES**](#TYPES-OF-SENTENCES)\n",
    "  * [**3.1 ASSERTIVE SENTENCE**](#ASSERTIVE-SENTENCE)\n",
    "  * [**3.2 NEGATIVE SENTENCE**](#NEGATIVE-SENTENCE)\n",
    "  * [**3.3 INTERROGATIVE SENTENCE**](#INTERROGATIVE-SENTENCE)\n",
    "  * [**3.4 IMPERATIVE SENTENCE**](#IMPERATIVE-SENTENCE)\n",
    "  * [**3.5 EXCLAMATORY SENTENCE**](#EXCLAMATORY-SENTENCE)\n",
    "  * [**3.6 SIMPLE SENTENCE**](#SIMPLE-SENTENCE)\n",
    "  * [**3.7 COMPOUND SENTENCE**](#COMPOUND-SENTENCE)\n",
    " * [**4.TYPES OF SPEECH**](#TYPES-OF-SPEECH)\n",
    "  * [**4.1 DIRECT SPEECH**](#DIRECT-SPEECH)\n",
    "  * [**4.2 INDIRECT SPEECH**](#INDIRECT-SPEECH)\n",
    " * [**5. PARTS OF SPEECH**](#PARTS-OF-SPEECH)\n",
    "  * [**5.1 NOUN**](#NOUN)\n",
    "    * [**5.1.1 TYPES OF NOUNS**](#TYPES-OF-NOUNS)\n",
    "      * [**5.1.1.1 PROPER NOUN & COMMON NOUN**](#PROPER-NOUN-&-COMMON-NOUN)\n",
    "      * [**5.1.1.2 COLLECTIVE NOUN**](#COLLECTIVE-NOUN)\n",
    "      * [**5.1.1.3 ABSTRACT NOUN**](#ABSTRACT-NOUN)\n",
    "      * [**5.1.1.4 MATERIAL NOUN**](#MATERIAL-NOUN)\n",
    "    * [**5.1.2 NUMBER BASED NOUNS**](#NUMBER-BASED-NOUNS)\n",
    "      * [**5.1.2.1 SINGULAR & PLURAL**](#SINGULAR-&-PLURAL)\n",
    "    * [**5.1.3 GENDER BASED NOUNS**](#GENDER-BASED-NOUNS)\n",
    "      * [**5.1.3.1 MASCULINE GENDER**](#MASCULINE-GENDER)\n",
    "      * [**5.1.3.2 FEMININE GENDER**](#FEMININE-GENDER)\n",
    "      * [**5.1.3.3 COMMON GENDER**](#COMMON-GENDER)\n",
    "    * [**5.1.4 DIFFERENT CASES IN NOUNS**](#DIFFERENT-CASES-IN-NOUNS)\n",
    "      * [**5.1.4.1 NOMINATIVE CASE**](#NOMINATIVE-CASE)\n",
    "      * [**5.1.4.2 OBJECTIVE CASE**](#OBJECTIVE-CASE)\n",
    "      * [**5.1.4.3 DIRECT & INDIRECT OBJECT**](#DIRECT-&-INDIRECT-OBJECT)\n",
    "      * [**5.1.4.4 POSSESSIVE CASE**](#POSSESSIVE-CASE)\n",
    "      * [**5.1.4.5 VOCATIVE CASE**](#VOCATIVE-CASE)\n",
    "      * [**5.1.4.6 NOUNS IN APPOSITION**](#NOUNS-IN-APPOSITION)\n",
    "  * [**5.2 VERB**](#VERB)\n",
    "    * [**5.2.1 TYPES OF VERBS**](#TYPES-OF-VERBS)\n",
    "      * [**5.2.1.1 TRANSITIVE VERB**](#TRANSITIVE-VERB)\n",
    "      * [**5.2.1.2 INTRANSITIVE VERB**](#INTRANSITIVE-VERB)\n",
    "      * [**5.2.1.3 FINITE VERB**](#FINITE-VERB)\n",
    "      * [**5.2.1.4 INFINITE VERB**](#INFINITE-VERB)\n",
    "        * [**5.2.1.4.1 INFINITIVE**](#INFINITIVE)\n",
    "        * [**5.2.1.4.2 GERUND**](#GERUND)\n",
    "        * [**5.2.1.4.3 PARTICIPLE**](#PARTICIPLE)\n",
    "      * [**5.2.1.5 WEAK VERBS**](#WEAK-VERBS)\n",
    "      * [**5.2.1.6 STRONG VERBS**](#STRONG-VERBS)\n",
    "      * [**5.2.1.7 AUXILIARY VERBS**](#AUXILIARY-VERBS)\n",
    "      * [**5.2.1.8 TENSES**](#TENSES)\n",
    "        * [**5.2.1.8.1 PRESENT TENSE**](#PRESENT-TENSE)\n",
    "        * [**5.2.1.8.2 PAST TENSE**](#PAST-TENSE)\n",
    "        * [**5.2.1.8.3 FUTURE TENSE**](#FUTURE-TENSE)\n",
    "  * [**5.3 PRONOUN**](#PRONOUN)\n",
    "  * [**5.4 ADJECTIVE**](#ADJECTIVE)\n",
    "  * [**5.5 ADVERB**](#ADVERB)\n",
    "  * [**5.6 PREPOSITION**](#PREPOSITION)\n",
    "  * [**5.7 CONJUNCTION**](#CONJUNCTION)\n",
    "  * [**5.8 INTERJECTION**](#INTERJECTION)\n",
    " \n",
    " "
   ]
  },
  {
   "cell_type": "markdown",
   "metadata": {},
   "source": [
    "***"
   ]
  },
  {
   "cell_type": "markdown",
   "metadata": {},
   "source": [
    "<h3 align=\"center\"><b>English Grammar Mind Map</h3>\n",
    "<img src=\"english-grammar-mind-map.png\" height=\"300\" width=\"300\" align=\"center\">"
   ]
  },
  {
   "cell_type": "markdown",
   "metadata": {},
   "source": [
    "***"
   ]
  },
  {
   "cell_type": "markdown",
   "metadata": {},
   "source": [
    "### **SENTENCE**\n",
    "<img src=\"sentence.png\" height=\"450\" width=\"550\" align=\"left\">"
   ]
  },
  {
   "cell_type": "markdown",
   "metadata": {},
   "source": [
    "**பல சொற்கள் ஒன்றாக இணைந்து ஏதேனும் ஒரு பொருளைத் தந்தால் அது sentence எனப்படும்.**\n",
    "\n",
    "\n",
    "**Rose is a beautiful flower.**"
   ]
  },
  {
   "cell_type": "markdown",
   "metadata": {},
   "source": [
    "***"
   ]
  },
  {
   "cell_type": "markdown",
   "metadata": {},
   "source": [
    "### **SUBJECT & PREDICATE**"
   ]
  },
  {
   "cell_type": "markdown",
   "metadata": {},
   "source": [
    "> <p style=\"color:#7B06C8;\"><b>ஒவ்வொரு sentence-ம்  subject மற்றும் predicate-ஐக் கொண்டிருக்கும். ஒரு sentence-ல் நாம் <br></br>எதைப் பற்றிப் பேசுகிறோமோ அது subject எனவும், பின்னர் அந்த subject-ஐப் பற்றி என்ன பேசுகிறோமோ அது predicate எனவும் அழைக்கப்படும்.</b></p>\n",
    "\n",
    "<p style=\"color:red;\"><b>Example: </b></p>\n",
    "\n",
    "> **Rose is a beautiful flower.**\n",
    "\n",
    "* [**TOP**](#Grammar-In-Tamil)"
   ]
  },
  {
   "cell_type": "markdown",
   "metadata": {},
   "source": [
    "***"
   ]
  },
  {
   "cell_type": "markdown",
   "metadata": {},
   "source": [
    "<h3 align=\"center\"><b>TYPES OF SENTENCES</b>"
   ]
  },
  {
   "cell_type": "markdown",
   "metadata": {},
   "source": [
    "<img src=\"sentences.png\" height=\"400\" width=\"550\" align=\"center\">"
   ]
  },
  {
   "cell_type": "markdown",
   "metadata": {},
   "source": [
    "***"
   ]
  },
  {
   "cell_type": "markdown",
   "metadata": {},
   "source": [
    "#### **ASSERTIVE SENTENCE**\n",
    "> <p style=\"color:#7B06C8;\"><b>ஒரு விஷயத்தை தெரிவிப்பது போன்று அமையும் வாக்கியம் assertive sentence எனப்படும்.</b></p>\n",
    "\n",
    "<p style=\"color:red;\"><b> Example:</b></p>\n",
    "\n",
    "> **Vijaya is a good girl.**\n",
    "\n",
    "* [**TOP**](#Grammar-In-Tamil)"
   ]
  },
  {
   "cell_type": "markdown",
   "metadata": {},
   "source": [
    " ***"
   ]
  },
  {
   "cell_type": "markdown",
   "metadata": {},
   "source": [
    "#### **NEGATIVE SENTENCE**\n",
    "\n",
    "> <p style=\"color:#7B06C8;\"><b>ஒரு விஷயத்தை மறுத்துக் கூறுவது போன்று அமையும் வாக்கியம் negative sentence எனப்படும்.</b></p>\n",
    "\n",
    "<p style=\"color:red;\"><b> Example:</b></p>\n",
    "\n",
    "> **Vijaya is not a good girl.**\n",
    "\n",
    "* [**TOP**](#Grammar-In-Tamil)"
   ]
  },
  {
   "cell_type": "markdown",
   "metadata": {},
   "source": [
    "*** "
   ]
  },
  {
   "cell_type": "markdown",
   "metadata": {},
   "source": [
    "#### **INTERROGATIVE SENTENCE**\n",
    "> <p style=\"color:#7B06C8;\"><b>ஒரு கேள்வியை எழுப்புவது போன்று அமையும் வாக்கியம் interrogative sentence எனப்படும்.</b></p>\n",
    "\n",
    "<p style=\"color:red;\"><b> Example:</b></p>\n",
    "\n",
    "> **Is Nithya a good girl?**\n",
    "\n",
    "* [**TOP**](#Grammar-In-Tamil)"
   ]
  },
  {
   "cell_type": "markdown",
   "metadata": {},
   "source": [
    "***"
   ]
  },
  {
   "cell_type": "markdown",
   "metadata": {},
   "source": [
    "#### **IMPERATIVE SENTENCE**\n",
    "\n",
    "> <p style=\"color:#7B06C8;\"><b>வேண்டுகோளாகவோ அல்லது ஆணைகளாகவோ விளங்கும் வாக்கியம் imperative sentence எனப்படும்.<b></p>\n",
    "\n",
    "<p style=\"color:red;\"><b> Example:</b></p>\n",
    "\n",
    "> 1. **Shut the door.**\n",
    "+ **Please do not leave me.**\n",
    "\n",
    "* [**TOP**](#Grammar-In-Tamil)"
   ]
  },
  {
   "cell_type": "markdown",
   "metadata": {},
   "source": [
    "***"
   ]
  },
  {
   "cell_type": "markdown",
   "metadata": {},
   "source": [
    "#### **EXCLAMATORY SENTENCE**\n",
    "\n",
    "> <p style=\"color:#7B06C8;\"><b>நமது உணர்ச்சிகளை வெளிப்படுத்தும் வாக்கியம் exclamatory sentence எனப்படும்.</b></p>\n",
    "\n",
    "<p style=\"color:red;\"><b> Example:</b></p>\n",
    "\n",
    "> 1. **How hot it is!**<br></br>\n",
    "இது எவ்வளவு சூடாக இருக்கிறது!\n",
    "+ **What a noise you are making!**\n",
    "\n",
    "* [**TOP**](#Grammar-In-Tamil)"
   ]
  },
  {
   "cell_type": "markdown",
   "metadata": {},
   "source": [
    "***"
   ]
  },
  {
   "cell_type": "markdown",
   "metadata": {},
   "source": [
    "#### **SIMPLE SENTENCE**"
   ]
  },
  {
   "cell_type": "markdown",
   "metadata": {},
   "source": [
    "> <p style=\"color:#7B06C8;\"><b>ஒரே ஒர் verb-ஐ மட்டும் பெற்றுக் காணப்படுவது simple sentence எனப்படும்.</b></p>\n",
    "\n",
    "<p style=\"color:red;\"><b> Example:</b></p>\n",
    "\n",
    "> 1. **Dog barks.**<br></br>\n",
    "+ **Stop**\n",
    "+ **Don't Stop**\n",
    "\n",
    "* [**TOP**](#Grammar-In-Tamil)"
   ]
  },
  {
   "cell_type": "markdown",
   "metadata": {},
   "source": [
    "***"
   ]
  },
  {
   "cell_type": "markdown",
   "metadata": {},
   "source": [
    "#### **COMPOUND SENTENCE**\n",
    "\n",
    "> <p style=\"color:#7B06C8;\"><b>ஒன்றுக்கும் மேற்பட்ட verbs-ஐப் பெற்றிருப்பது compound sentence எனப்படும்.<br>இதனை co-ordinate clauses எனவும் கூறலாம்.<br><br> ஏனெனில் இதில் தனித்தனி clauses-ஆனது and மூலம் இணைக்கப்பட்டிருக்கும்.<br> இரண்டு தனித்தனி clauses இணைக்கப்பட்டிருந்தால் அதனை double sentence எனவும்,<br> இரண்டுக்கும் மேற்பட்டவை இணைக்கப்பட்டிருந்தால் அதனை multiple sentence எனவும்<br> கூறலாம்.</b></p>\n",
    "\n",
    "<p style=\"color:red;\"><b> Example:</b></p>\n",
    "\n",
    "> 1. **I gave a loud shout and the bear ran away..**<br></br>\n",
    "+ **Night came on and rain fell heavily and we all got wet.**\n",
    "\n",
    "\n",
    "* [**TOP**](#Grammar-In-Tamil)"
   ]
  },
  {
   "cell_type": "markdown",
   "metadata": {},
   "source": [
    "***"
   ]
  },
  {
   "cell_type": "markdown",
   "metadata": {},
   "source": [
    "#### **COMPLEX SENTENCE**\n",
    "\n",
    "> <p style=\"color:#7B06C8;\"><b> இதிலும் ஒன்றுக்கும் மேற்பட்ட verbs காணப்படும். ஆனால் இதில் இரண்டு clauses ஒன்றையொன்று சார்ந்தவாறு இணைக்கப்பட்டிருக்கும். அதாவது ஒரு clause-ன் அர்த்தம் அதன் மறுபக்கத்தில் உள்ள clause-ஐச் சார்ந்தே இருக்கும்.</p>\n",
    "    \n",
    "<p style=\"color:red;\"><b> Example:</b></p>\n",
    "\n",
    "> **We could not hear what the teacher said.**\n",
    "\n",
    "> <p style=\"color:#7B06C8;\"><b>இதில் தனித்து நின்று பொருள் கொடுக்கும் clause (We could not hear) main clause/principal clause எனவும், இதனை சார்ந்துள்ள clauses (what the teacher said) sub-ordinate clauses எனவும் அழைக்கப்படும்.</p>\n",
    "    \n",
    "* [**TOP**](#Grammar-In-Tamil)\n"
   ]
  },
  {
   "cell_type": "markdown",
   "metadata": {},
   "source": [
    "***\n"
   ]
  },
  {
   "cell_type": "markdown",
   "metadata": {},
   "source": [
    "&nbsp;"
   ]
  },
  {
   "cell_type": "markdown",
   "metadata": {},
   "source": [
    "<h3 align=\"center\"><b>TYPES OF SPEECH</h3>\n",
    "<img src=\"speech.png\" height=\"400\" width=\"450\" align=\"center\">\n",
    "\n",
    "> <p style=\"color:#7B06C8;\"><b>ஒருவர் சொன்ன விஷயத்தை மற்றவரிடம் சொல்வதற்கு இருவழிகள் உள்ளன.<br><br>அவையே : <br> direct speech மற்றும் indirect speech.</p>"
   ]
  },
  {
   "cell_type": "markdown",
   "metadata": {},
   "source": [
    "***"
   ]
  },
  {
   "cell_type": "markdown",
   "metadata": {},
   "source": [
    "#### **DIRECT SPEECH**\n",
    "\n",
    "> <p style=\"color:#7B06C8;\"><b>ஒருவர் சொன்ன வார்த்தைகளை அப்படியே திருப்பிச் சொல்லுவது direct speech.</p>\n",
    "    \n",
    "<p style=\"color:red;\"><b> Example:</b></p>\n",
    "\n",
    "> **Vijayan said, “My father is busy now”.**\n",
    "\n",
    "> <p style=\"color:#7B06C8;\"><b>இதில் comma(,) – வைத் தொடர்ந்து வரும் வார்த்தைகள் விஜயன் சொன்னவை. அவை quotation marks-க்குள் (“ “) உள்ளன.</p>\n",
    "    \n",
    " * [**TOP**](#Grammar-In-Tamil)\n",
    " "
   ]
  },
  {
   "cell_type": "markdown",
   "metadata": {},
   "source": [
    "#### **INDIRECT SPEECH**\n",
    "\n",
    "> <p style=\"color:#7B06C8;\"><b>ஒருவர் சொன்ன வார்த்தைகளை அப்படியே திருப்பிச் சொல்லாமல், அவர் சொன்ன விஷயத்தை மட்டும் கூறுவது indirect speech.</p>\n",
    "    \n",
    "<p style=\"color:red;\"><b> Example:</b></p>\n",
    "    \n",
    "> **Vijayan said that his father was busy then.**\n",
    "\n",
    "> <p style=\"color:#7B06C8;\"><b>இவ்வாறு கூறும்போது direct speech-ல் உள்ள comma மற்றும் quotation marks நீக்கப்பட்டு, verb மற்றும் adverb அனைத்தும் past tense-ல் மாற்றப்பட்டிருப்பதைக் கவனிக்கவும். மேலும் my எனும் pronoun, his என்று மாற்றப்பட்டிருப்பதையும் காணலாம்.</p>\n",
    "    \n",
    "* [**TOP**](#Grammar-In-Tamil)\n"
   ]
  },
  {
   "cell_type": "markdown",
   "metadata": {},
   "source": [
    "***"
   ]
  },
  {
   "cell_type": "markdown",
   "metadata": {},
   "source": [
    "### **PARTS OF SPEECH**\n",
    "<p style=\"color:black;\"><b>ஒரு sentence-ல் பயன்படுத்தப்படும் சொற்கள் எந்த வகையைச் சார்ந்தவை என வகைப்படுத்திப் பார்ப்பதே parts of speech எனப்படும்.</p>\n",
    "\n",
    "**இதில் 8 வகைகள் உள்ளன :**</p>\n",
    "\n",
    "1. **NOUN**\n",
    "+ **VERB**\n",
    "+ **PRONOUN**\n",
    "+ **ADJECTIVE**\n",
    "+ **ADVERB**\n",
    "+ **PREPOSITION**\n",
    "+ **CONJUNCTION**\n",
    "+ **INTERJECTION**\n"
   ]
  },
  {
   "cell_type": "markdown",
   "metadata": {},
   "source": [
    "#### **NOUN**\n",
    "> <p style=\"color:#7B06C8;\"><b>ஏதேனும் ஒரு இடத்தின் பெயர், பொருளின் பெயர் அல்லது மனிதர்களின் பெயர்கள் ஒரு sentence-ல் குறிப்பிடப்படின் அவை noun எனப்படும்.</p>\n",
    "\n",
    "<p style=\"color:red;\"><b> Example:</b></p>\n",
    "\n",
    "> **Srinivasan lives in Kanchipuram city.**\n",
    "\n",
    "* [**TOP**](#Grammar-In-Tamil)\n"
   ]
  },
  {
   "cell_type": "markdown",
   "metadata": {},
   "source": [
    "#### **VERB**\n",
    "> <p style=\"color:#7B06C8;\"><b>ஒரு noun செய்த செயலை அல்லது noun-க்கு நிகழ்ந்த நிகழ்வினைக் குறிப்பிட உதவும் சொல் verb எனப்படும்</p>\n",
    "\n",
    "<p style=\"color:red;\"><b> Example:</b></p>\n",
    "\n",
    "> 1. **Gowtham menon directed VTV movie.**<br>\n",
    "+ **Gowtham menon got award for VTV movie.**"
   ]
  },
  {
   "cell_type": "markdown",
   "metadata": {},
   "source": [
    "#### **PRONOUN**\n",
    "> <p style=\"color:#7B06C8;\"><b>ஒரு noun-க்கு பதிலாகப் பயன்படுத்தப்படும் சொற்கள் pronoun எனப்படும். உதாரணத்துக்கு, “Karthik lent Karthik’s pen to Sharmi, and Sharmi return the pen back to Karthik the next day.” என்று கூறுவதற்குப் பதிலாக pronouns-ஐப் பயன்படுத்திப் பின்வருமாறு கூறலாம்.</p>\n",
    "    \n",
    " <p style=\"color:red;\"><b> Example:</b></p>\n",
    " \n",
    " > **Karthik lent his pen to Sharmi, and she return it back to him the next day.**\n",
    "\n",
    "* [**TOP**](#Grammar-In-Tamil)"
   ]
  },
  {
   "cell_type": "markdown",
   "metadata": {},
   "source": [
    "#### **ADJECTIVE**\n",
    "> <p style=\"color:#7B06C8;\"><b>ஒரு noun-க்கு முன்னாலோ பின்னாலோ அந்த noun-ன் தன்மையை விளக்குமாறு சேர்க்கப்படும் சொல் adjective எனப்படும்.</p>\n",
    "\n",
    "<p style=\"color:red;\"><b> Example:</b></p>\n",
    "\n",
    "> 1. **Hari is a clever boy.**<br>\n",
    "2. **This is a big house with large rooms.**\n",
    "\n",
    "* [**TOP**](#Grammar-In-Tamil)"
   ]
  },
  {
   "cell_type": "markdown",
   "metadata": {},
   "source": [
    "#### **ADVERB**\n",
    "\n",
    "> <p style=\"color:#7B06C8;\"><b>ஒரு verb-க்கு முன்னாலோ பின்னாலோ அந்த செயல் எவ்வாறு செய்யப்பட்டது என்பதை விளக்குமாறு சேர்க்கப்படும் சொல் adverb எனப்படும்.</p>\n",
    "    \n",
    "<p style=\"color:red;\"><b> Example:</b></p>\n",
    "\n",
    "> 1. **Arun runs quickly.**\n",
    "\n",
    "* [**TOP**](#Grammar-In-Tamil)"
   ]
  },
  {
   "cell_type": "markdown",
   "metadata": {},
   "source": [
    "#### **PREPOSITION**\n",
    "> <p style=\"color:#7B06C8;\"><b>ஒரு sentence-ல் இரண்டு nouns-க்குமிடையில் உள்ள தொடர்பை விளக்கப் பயன்படுவது preposition ஆகும்.</p>\n",
    "    \n",
    "<p style=\"color:red;\"><b> Example:</b></p>\n",
    "\n",
    "> 1. **This letter is from Ashok.**<br>\n",
    "2. **The book is on the desk.**\n",
    "\n",
    "\n",
    "> **By, for, over, down, along, between, outside, against ஆகியவை ஒருசில prepositions ஆகும்.**\n",
    "\n",
    "* [**TOP**](#Grammar-In-Tamil)"
   ]
  },
  {
   "cell_type": "markdown",
   "metadata": {},
   "source": [
    "#### **CONJUNCTION**\n",
    "\n",
    "> <p style=\"color:#7B06C8;\"><b>இரண்டு வார்த்தைகளையோ அல்லது இரண்டு வாக்கியங்களையோ இணைக்கப் பயன்படும் சொல் conjunction ஆகும்.</p>\n",
    "    \n",
    "<p style=\"color:red;\"><b> Example:</b></p>\n",
    "\n",
    "> 1. **Arun and Karthik are great friends.**<br>\n",
    "2. **I called him but he did not hear me.**\n",
    "\n",
    "* [**TOP**](#Grammar-In-Tamil)"
   ]
  },
  {
   "cell_type": "markdown",
   "metadata": {},
   "source": [
    "#### **INTERJECTION**\n",
    "\n",
    "><p style=\"color:#7B06C8;\"><b>மனிதர்கள் தங்களின் உணர்ச்சிப் பெருக்கில் எழுப்பும் ஓசைகளும், வார்த்தைகளுமே interjection ஆகும்.</p>    \n",
    "<p style=\"color:red;\"><b> Example:</b></p>\n",
    "\n",
    "> 1. **Hurrah! We have won the match.**<br>\n",
    "2. **Ah! You have broken my heart.**\n",
    "> **Hello!, Oh!, Hush!, Alas! போன்ற வார்த்தைகள் இதற்கான ஒருசில உதாரணங்கள்.**\n",
    "\n",
    "* [**TOP**](#Grammar-In-Tamil)"
   ]
  },
  {
   "cell_type": "markdown",
   "metadata": {},
   "source": [
    "***"
   ]
  },
  {
   "cell_type": "markdown",
   "metadata": {},
   "source": [
    "<h3 align=\"center\"><b>NOUNS</h3>\n",
    "<img src=\"noun.png\" height=\"250\" width=\"500\" align=\"center\">"
   ]
  },
  {
   "cell_type": "markdown",
   "metadata": {},
   "source": [
    "#### **TYPES OF NOUNS**"
   ]
  },
  {
   "cell_type": "markdown",
   "metadata": {},
   "source": [
    "#### **PROPER NOUN & COMMON NOUN**\n",
    "\n",
    "><p style=\"color:#7B06C8;\"><b>கீழ்க்கண்ட உதாரணத்தில் city என்பது அனைத்து நகரங்களின் பெயர்களையும் குறிக்கப் பயன்படுவதால் அது common noun வகையைச் சார்ந்தது. அடுத்ததாக உள்ள kanchipuram எனும் சொல் ஒரு குறிப்பிட்ட நகரத்தை மட்டும் குறிப்பதால் அது proper noun வகையைச் சார்ந்தது.</b>\n",
    "<p style=\"color:red;\"><b> Example:</b></p>\n",
    "\n",
    "> **Shrinivasan lives in kanchipuram city.**\n",
    "\n",
    "* [**TOP**](#Grammar-In-Tamil)"
   ]
  },
  {
   "cell_type": "markdown",
   "metadata": {},
   "source": [
    "#### **COLLECTIVE NOUN**\n",
    "\n",
    "><p style=\"color:#7B06C8;\"><b>ஒரு குழுவைக் குறிப்பிட உதவும் சொற்கள் collective noun வகையின் கீழ் அடங்கும்.</p>\n",
    "<p style=\"color:red;\"><b> Example:</b></p>\n",
    "\n",
    "> **The army is well-known for their honesty.**\n",
    "\n",
    "* [**TOP**](#Grammar-In-Tamil)\n"
   ]
  },
  {
   "cell_type": "markdown",
   "metadata": {},
   "source": [
    "#### **ABSTRACT NOUN**\n",
    "\n",
    "><p style=\"color:#7B06C8;\"><b>ஒருவரது தன்மை அல்லது அவரது நிலையைக் குறிப்பிட உதவும் சொற்கள் abstract noun வகையின் கீழ் அடங்கும்.</p>\n",
    "<p style=\"color:red;\"><b> Example:</b></p>\n",
    "\n",
    "> **The army is well-known for their honesty.**\n",
    "\n",
    "* [**TOP**](#Grammar-In-Tamil)\n",
    "\n"
   ]
  },
  {
   "cell_type": "markdown",
   "metadata": {},
   "source": [
    "#### **MATERIAL NOUN**\n",
    "\n",
    "><p style=\"color:#7B06C8;\"><b>ஓன்றை உருவாக்கப் பயன்படுத்தப்படும் பொருட்களைக் குறிக்கும் சொற்கள் material noun-வகையின் கீழ் அடங்கும்.</p>\n",
    "<p style=\"color:red;\"><b> Example:</b></p>\n",
    "\n",
    "> **The temple was built of gold.**\n",
    "\n",
    "* [**TOP**](#Grammar-In-Tamil)\n",
    "\n"
   ]
  },
  {
   "cell_type": "markdown",
   "metadata": {},
   "source": [
    "#### **NUMBER BASED NOUNS**"
   ]
  },
  {
   "cell_type": "markdown",
   "metadata": {},
   "source": [
    "#### **SINGULAR & PLURAL**\n",
    "><p style=\"color:#7B06C8;\"><b>ஒரு noun ஒரே ஒரு நபரையோ அல்லது பொருளையோ குறிப்பிடின் அது singular எனவும், ஒன்றுக்கும் மேற்பட்ட நபர்களையோ அல்லது பொருட்களையோ குறிப்பிடின் அது plural எனவும் அழைக்கப்படும்.</p>\n",
    "<p style=\"color:red;\"><b> Example:</b></p>\n",
    "\n",
    "|Singular |Plural|\n",
    "|--|--|\n",
    "|Sister |Sisters|\n",
    "|Book |Books|\n",
    "|Hero |Heroes|\n",
    "|Life|Lives|\n",
    "\n",
    "* [**TOP**](#Grammar-In-Tamil)\n"
   ]
  },
  {
   "cell_type": "markdown",
   "metadata": {},
   "source": [
    "#### **GENDER BASED NOUNS**"
   ]
  },
  {
   "cell_type": "markdown",
   "metadata": {},
   "source": [
    "#### **MASCULINE GENDER**\n",
    "\n",
    "><p style=\"color:#7B06C8;\"><b>ஆண்பாலைக் குறிக்க உதவும் nouns, “Masculine Gender” வகையைச் சார்ந்தவை.</p>\n",
    "<p style=\"color:red;\"><b> Example:</b></p>\n",
    "\n",
    ">1. Boy\n",
    "2. Father\n",
    "3. Uncle\n",
    "4. King\n",
    "5. Son\n",
    "\n"
   ]
  },
  {
   "cell_type": "markdown",
   "metadata": {},
   "source": [
    "#### **FEMININE GENDER**\n",
    "\n",
    "><p style=\"color:#7B06C8;\"><b>பெண்பாலைக் குறிக்க உதவும் nouns, “Feminine Gender” வகையைச் சார்ந்தவை.</p>\n",
    "<p style=\"color:red;\"><b> Example:</b></p>\n",
    "\n",
    ">1. Girl\n",
    "2. Mother\n",
    "3. Aunty\n",
    "4. Queen\n",
    "5. Daughter\n"
   ]
  },
  {
   "cell_type": "markdown",
   "metadata": {},
   "source": [
    "#### **COMMON GENDER**\n",
    "\n",
    "><p style=\"color:#7B06C8;\"><b>இருபாலரையும் குறிக்க உதவும் nouns, “Common Gender” வகையைச் சார்ந்தவை.</p>\n",
    "<p style=\"color:red;\"><b> Example:</b></p>\n",
    "\n",
    "> 1. Baby\n",
    "2. Human\n"
   ]
  },
  {
   "cell_type": "markdown",
   "metadata": {},
   "source": [
    "#### **DIFFERENT CASES IN NOUNS**"
   ]
  },
  {
   "cell_type": "markdown",
   "metadata": {},
   "source": [
    "#### **NOMINATIVE CASE**\n",
    "\n",
    "><p style=\"color:#7B06C8;\"><b>ஒரு sentence-ல் verb-க்கு முன்னால் உள்ள nouns-ஐ nominative case எனலாம்.</p>\n",
    "<p style=\"color:red;\"><b> Example:</b></p>\n",
    "\n",
    "> **Shrinivasan presented a saree to Nithya.**"
   ]
  },
  {
   "cell_type": "markdown",
   "metadata": {},
   "source": [
    "#### **OBJECTIVE CASE**\n",
    "\n",
    "><p style=\"color:#7B06C8;\"><b>ஒரு sentence-ல் verb-க்குப் பின்னால் உள்ள nouns-ஐ objective case எனலாம்.</p>\n",
    "<p style=\"color:red;\"><b> Example:</b></p>\n",
    "\n",
    "> **Shrinivasan presented a saree to Nithya.**"
   ]
  },
  {
   "cell_type": "markdown",
   "metadata": {},
   "source": [
    "#### **DIRECT & INDIRECT OBJECT**\n",
    "\n",
    "><p style=\"color:#7B06C8;\"><b>எதை / யாரை எனும் கேள்விக்கு விடையாக அமைவது direct object. யாருக்கு எனும் கேள்விக்கு விடையாக அமைவது indirect object.</p>\n",
    "    \n",
    "<p style=\"color:red;\"><b> Example:</b></p>\n",
    "\n",
    "> **Shrinivasan presented a saree to Nithya.**<br><br>\n",
    "**Shrinivasan எதை பரிசளித்தார் – saree (Direct obect)**<br>\n",
    "**Shrinivasan யாருக்கு பரிசளித்தார் – Nithya (Indirect Obect)**\n"
   ]
  },
  {
   "cell_type": "markdown",
   "metadata": {},
   "source": [
    "#### **POSSESSIVE CASE**\n",
    "\n",
    "><p style=\"color:#7B06C8;\"><b>ஒரு noun ஒருவருடையதாக அமையும்போது அவரை possessive case எனலாம்.</p>\n",
    "    \n",
    "<p style=\"color:red;\"><b> Example:</b></p>\n",
    "\n",
    ">**Shrinivasan is Nithya’s husband.**<br>\n",
    " **This is nithya’s saree.**\n"
   ]
  },
  {
   "cell_type": "markdown",
   "metadata": {},
   "source": [
    "#### **VOCATIVE CASE**\n",
    "> <p style=\"color:#7B06C8;\"><b>ஒரு வாக்கியத்தில் நாம் ஒருவரைக் குறிப்பிட்டுக் கூறுவது vocative case எனலாம்.</p>\n",
    "    \n",
    "<p style=\"color:red;\"><b> Example:</b></p>\n",
    "\n",
    "> **Come here nithya.**<br>**Rajesh, go and bring the book.**"
   ]
  },
  {
   "cell_type": "markdown",
   "metadata": {},
   "source": [
    "#### **NOUNS IN APPOSITION**\n",
    "> <p style=\"color:#7B06C8;\"><b>ஒரு noun-ஐ இன்னும் விவரிக்க, அதன் தொடர்ச்சியாக மற்றொரு noun அமைந்தால் அதனை nouns in apposition எனலாம்.</p>\n",
    "    \n",
    "<p style=\"color:red;\"><b> Example:</b></p>\n",
    "\n",
    "> **Mani Rathnam, the director got award for this year.**"
   ]
  },
  {
   "cell_type": "markdown",
   "metadata": {},
   "source": [
    "***"
   ]
  },
  {
   "cell_type": "markdown",
   "metadata": {},
   "source": [
    "<h3 align=\"center\"><b>VERBS</h3>\n",
    "<img src=\"verb.png\" height=\"800\" width=\"800\" align=\"center\">"
   ]
  },
  {
   "cell_type": "markdown",
   "metadata": {},
   "source": [
    "#### **TYPES OF VERBS**"
   ]
  },
  {
   "cell_type": "markdown",
   "metadata": {},
   "source": [
    "#### **TRANSITIVE VERB**\n",
    "> <p style=\"color:#7B06C8;\"><b>ஒரு verb அர்த்தமளிப்பதற்கு அதன் தொடர்ச்சியில் உள்ள சொற்களைச் சார்ந்திருக்குமெனில், அது transitive verb எனப்படும்.</p>\n",
    "    \n",
    "<p style=\"color:red;\"><b> Example:</p>   \n",
    "\n",
    "> **I need this book.**\n",
    " \n",
    " > <p style=\"color:#7B06C8;\"><b>இங்கு வெறும் need எனும் verb மட்டுமே அர்த்தம் கொடுத்துவிடவில்லை. அதன் தொடர்ச்சியில் உள்ள this book எனும் வார்த்தையே அர்த்தத்தை அளிக்கிறது.</p>\n"
   ]
  },
  {
   "cell_type": "markdown",
   "metadata": {},
   "source": [
    "#### **INTRANSITIVE VERB**\n",
    "\n",
    "> <p style=\"color:#7B06C8;\"><b>ஒரு verb மட்டுமே தன்னிச்சையாக நின்று பொருள் கொடுக்குமானால், அது intransitive verb எனப்படும்.</p>\n",
    "<p style=\"color:red;\"><b> Example:</p>  \n",
    "    \n",
    "   > **Wake up**  \n",
    "     **Come On**\n",
    "\n"
   ]
  },
  {
   "cell_type": "markdown",
   "metadata": {},
   "source": [
    "#### **FINITE VERB**\n",
    "\n",
    "> <p style=\"color:#7B06C8;\"><b>ஒரு sentence-ல் உள்ள subject-ஐப் பொறுத்து ஒரு verb அமையுமெனில், அதனை finite verb எனலாம். பொதுவாக subject மற்றும் predicate-ஐப் பெற்று விளங்கும் sentence அனைத்திலும் உள்ள verb, finite verb ஆகும்.</p>\n"
   ]
  },
  {
   "cell_type": "markdown",
   "metadata": {},
   "source": [
    "#### **INFINITE VERB**\n",
    "\n",
    "> <p style=\"color:#7B06C8;\"><b>ஒரு sentence-ல் subject என்ற ஒன்று தனியாக இல்லாமல், ஒரு verb-ஆனது subject-ஆக அமையும்போது, அதனை infinite verb எனலாம்.</p>\n",
    "   \n",
    "  <p style=\"color:red;\"><b> Example:</p> \n",
    "    \n",
    "> **To forgive our enemy is not an easy thing.**  \n",
    " **The forgiving of an enemy is really great thing.**\n",
    "    \n",
    "> <p style=\"color:#7B06C8;\"><b>இத்தகைய infinite verbs-ஐ infinitive, gerund மற்றும் past participle என்று மூன்றாகப் பிரிக்கலாம்.</p>"
   ]
  },
  {
   "cell_type": "markdown",
   "metadata": {},
   "source": [
    "#### **INFINITIVE**\n",
    "> <p style=\"color:#7B06C8;\"><b>பொதுவாக to-வைத் தொடர்ந்து வரும் verbs, infinitive எனப்படும். சில நேரங்களில் to இல்லாமலும் வரலாம்.</p>\n",
    "   \n",
    "  <p style=\"color:red;\"><b> Example:</p> \n",
    "    \n",
    "   > **Birds love to sing.**  \n",
    "   **To sleep is necessary for good health.**\n",
    "    \n"
   ]
  },
  {
   "cell_type": "markdown",
   "metadata": {},
   "source": [
    "#### **GERUND**\n",
    "> <p style=\"color:#7B06C8;\"><b>பொதுவாக ஒரு verb-ஐத் தொடர்ந்து ing சேர்க்கப்படும்போது அதனை gerund எனலாம். இது ஒரு sentence-ல் subject மற்றும் verb-ன் வேலையைச் சேர்த்தே செய்கிறது</p>\n",
    "    \n",
    "  <p style=\"color:red;\"><b> Example:</p> \n",
    "    \n",
    ">  **Swimming is a very good exercise.**  \n",
    "**I like reading novels.**\n",
    "    "
   ]
  },
  {
   "cell_type": "markdown",
   "metadata": {},
   "source": [
    "#### **PARTICIPLE**\n",
    "> <p style=\"color:#7B06C8;\"><b>ஒரு sentence-ல் verb மற்றும் adjective என இரண்டின் வேலையையும் சேர்த்தே பார்க்கும் ஒரு சொல் participle எனப்படும்.</p>\n",
    "    \n",
    "  <p style=\"color:red;\"><b> Example:</p> \n",
    "    \n",
    ">  **Kicking the ball, the boy started playing.**  \n",
    "**A student, wounded in the last match, came to the school.**  \n",
    "**இதில் kicking என்பது present participle-ஐயும், wounded என்பது past participle-ஐயும் குறிக்கும்.**\n",
    "    "
   ]
  },
  {
   "cell_type": "markdown",
   "metadata": {},
   "source": [
    "#### **WEAK VERBS**\n",
    "> <p style=\"color:#7B06C8;\"><b>ஒரு verb-ன் இறுதியில் ed, d அல்லது t எனும் எழுத்துக்களை சேர்த்து அதன் past tense உருவாக்கப்படுமெனில், அவை weak verbs எனப்படும்.</p>\n",
    "    \n",
    "<p style=\"color:red;\"><b> Example:</p> \n",
    "    \n",
    "> **Work Worked**    \n",
    "**Love Loved**  \n",
    "**Bent Bent**\n",
    "    \n"
   ]
  },
  {
   "cell_type": "markdown",
   "metadata": {},
   "source": [
    "#### **STRONG VERBS**\n",
    "> <p style=\"color:#7B06C8;\"><b>ஒரு verb-ல் உள்ள vowel letter-ஐ மாற்றி அதன் past tense உருவாக்கப்படுமெனில், அதனை strong verbs எனலாம்.</p>\n",
    "    \n",
    "<p style=\"color:red;\"><b> Example:</p>\n",
    "   \n",
    "> **Give Gave**  \n",
    "**Know Knew**  \n",
    "**Bear Bore**\n",
    "\n",
    "> <p style=\"color:#7B06C8;\"><b>இத்தகைய strong verbs-ன் past participle-ஆனது அதனிறுதியில் en, n அல்லது ne எனும் எழுத்துக்களை இணைப்பதன் மூலம் உருவாக்கப்படும்.</p>\n",
    "   \n",
    "> **Give Gave Given**  \n",
    "**Know Knew Known**  \n",
    "**Bear Bore Borne**  "
   ]
  },
  {
   "cell_type": "markdown",
   "metadata": {},
   "source": [
    "#### **AUXILIARY VERBS**\n",
    "> <p style=\"color:#7B06C8;\"><b>ஒரு verb-க்கு முன்னால் துணையாக நின்று, அதன் tense-ஐக் கூற உதவுவது auxiliary verbs எனப்படும்.</p>\n",
    "    \n",
    "<p style=\"color:red;\"><b> Example:</p>\n",
    "    \n",
    "> **I have lost my weight.**  \n",
    "**We are playing.**\n",
    "\n",
    "> <p style=\"color:#7B06C8;\"><b>மொத்தத்தில் be, have, do, shall, will & may எனும் 6 auxiliary verbs உள்ளன.</p>"
   ]
  },
  {
   "cell_type": "markdown",
   "metadata": {},
   "source": [
    "#### **TENSES**\n",
    "> <p style=\"color:#7B06C8;\"><b>எந்த காலகட்டத்தில் ஒரு செயல் நடைபெற்றது என்பதைக் குறிக்க உதவுவதே tenses ஆகும். ஒரு காலகட்டத்தை மூன்று வகையாகப் பிரிக்கலாம். அவை,</p>\n",
    "    \n",
    "> **நிகழ்காலம் அதாவது present tense**  \n",
    "**கடந்தகாலம் அதாவது past tense**  \n",
    "**எதிர்காலம் அதாவது future tense**\n"
   ]
  },
  {
   "cell_type": "markdown",
   "metadata": {},
   "source": [
    "#### **PRESENT TENSE**\n",
    "> <p style=\"color:#7B06C8;\"><b>ஒரு செயல் நிகழ்காலத்தில் நடைபெறுகிறது என்பதைக் குறிக்கும் verb, simple present tense-ல் அமையும்.</p>\n",
    "    \n",
    "><p style=\"color:red;\"><b> Example:</p>\n",
    "    \n",
    "> **My father lives in Trichy.**\n",
    "\n",
    ">#### **PRESENT CONTINUOUS TENSE**\n",
    "> <p style=\"color:#7B06C8;\"><b>ஒரு செயல் நிகழ்காலத்தில் தொடர்ந்து நடைபெற்றுக் கொண்டே இருக்கின்றது என்பதைக் குறிக்கும் verb, present continuous tense-ல் அமையும்.</p>\n",
    "    \n",
    "><p style=\"color:red;\"><b> Example:</p>\n",
    "    \n",
    "   > **It is raining.**\n",
    "   \n",
    "> #### **PRESENT PERFECT TENSE**\n",
    "> <p style=\"color:#7B06C8;\"><b>ஒரு செயல் நிகழ்காலத்தில் நடந்து முடிந்ததைக் குறிப்பிட வேண்டுமெனில், perfect tense-ஐப் பயன்படுத்தலாம். <br>Have / Has ஆகியவை perfect tense-ஐக் குறிப்பிட உதவும் verbs.</p>\n",
    "    \n",
    "> <p style=\"color:red;\"><b> Example:</p>\n",
    "    \n",
    " >**I have learnt my lessons.**"
   ]
  },
  {
   "cell_type": "markdown",
   "metadata": {},
   "source": [
    "#### **PAST TENSE**\n",
    "> <p style=\"color:#7B06C8;\"><b>ஒரு செயல் இறந்த காலத்தில் நடைபெற்றது என்பதைக் குறிக்கும் verb, simple past tense-ல் அமையும்.</p>\n",
    "    \n",
    " ><p style=\"color:red;\"><b> Example:</p>\n",
    "\n",
    ">**My father lived in Trichy.**\n",
    "\n",
    ">#### **PAST CONTINUOUS TENSE**\n",
    "> <p style=\"color:#7B06C8;\"><b>ஒரு செயல் இறந்த காலத்தில் தொடர்ந்து நடைபெற்று முடிந்துவிட்டது என்பதைக் குறிப்பது past continuous tense எனப்படும்.</p>\n",
    "    \n",
    "> <p style=\"color:red;\"><b> Example:</p>\n",
    "    \n",
    ">**It was raining yesterday.**\n",
    "\n",
    "> #### **PAST PERFECT TENSE**\n",
    "> <p style=\"color:#7B06C8;\"><b>ஒரு செயல் இறந்த காலத்தில் நடைபெற்று முடிந்து விட்டதை உறுதியாகக் குறிக்கும் சொல் past perfect tense-ல் அமையும். Had என்பது இதனைக் குறிக்க உதவும் சொல்.</p>\n",
    "    \n",
    "> <p style=\"color:red;\"><b> Example:</p>\n",
    "    \n",
    ">**He had finished his schooling.**\n",
    "\n",
    "\n",
    "    "
   ]
  },
  {
   "cell_type": "markdown",
   "metadata": {},
   "source": [
    "#### **FUTURE TENSE**\n",
    "> <p style=\"color:#7B06C8;\"><b>ஒரு செயல் எதிர்காலத்தில் நடைபெற இருப்பதைக் குறிக்கும் சொல், simple future tense-ல் அமையும்.</p>\n",
    "    \n",
    "><p style=\"color:red;\"><b> Example:</p>\n",
    "    \n",
    "> **Sheela will come tomorrow.**\n",
    "\n",
    ">#### **FUTURE CONTINUOUS TENSE**\n",
    "> <p style=\"color:#7B06C8;\"><b>ஒரு செயல் எதிர்காலத்தில் நடைபெற்றுக் கொண்டிருக்கும் எனச் சொல்லும்போது future continuous tense-ஐப் பயன்படுத்தலாம்.</p>\n",
    "    \n",
    "> <p style=\"color:red;\"><b> Example:</p>\n",
    "    \n",
    ">**The team will be playing cricket next week.**\n",
    "\n",
    "> #### **FUTURE PERFECT TENSE**\n",
    "> <p style=\"color:#7B06C8;\"><b>ஒரு செயல் கண்டிப்பாக நடைபெற்றுவிடும் என உறுதியாகக் கூற future perfect tense-ஐப் பயன்படுத்தலாம்.</p>\n",
    "    \n",
    "> <p style=\"color:red;\"><b> Example:</p>\n",
    "    \n",
    ">**Hari will have reached chennai by tomorrow this time.**\n",
    "    "
   ]
  },
  {
   "cell_type": "code",
   "execution_count": null,
   "metadata": {},
   "outputs": [],
   "source": []
  }
 ],
 "metadata": {
  "kernelspec": {
   "display_name": "Python 3",
   "language": "python",
   "name": "python3"
  },
  "language_info": {
   "codemirror_mode": {
    "name": "ipython",
    "version": 3
   },
   "file_extension": ".py",
   "mimetype": "text/x-python",
   "name": "python",
   "nbconvert_exporter": "python",
   "pygments_lexer": "ipython3",
   "version": "3.6.9"
  },
  "widgets": {
   "application/vnd.jupyter.widget-state+json": {
    "state": {},
    "version_major": 2,
    "version_minor": 0
   }
  }
 },
 "nbformat": 4,
 "nbformat_minor": 2
}
