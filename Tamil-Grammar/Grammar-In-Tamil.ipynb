{
 "cells": [
  {
   "cell_type": "markdown",
   "metadata": {},
   "source": [
    "<h2 align=\"center\"><b> Grammar In Tamil </b></h2>"
   ]
  },
  {
   "cell_type": "markdown",
   "metadata": {},
   "source": [
    "&nbsp;"
   ]
  },
  {
   "cell_type": "markdown",
   "metadata": {},
   "source": [
    " * [**1.&nbsp;SENTENCE**](#SENTENCE)\n",
    " * [**2.&nbsp;SUBJECT & PREDICATE**](#SUBJECT-&-PREDICATE)\n",
    " * [**3.&nbsp;TYPES OF SENTENCES**](#TYPES-OF-SENTENCES)\n",
    " * [&ensp;**3.1&nbsp;ASSERTIVE SENTENCE**](#ASSERTIVE-SENTENCE)\n",
    " * [&ensp;**3.2&nbsp;NEGATIVE SENTENCE**](#NEGATIVE-SENTENCE)\n",
    " * [&ensp;**3.3&nbsp;INTERROGATIVE SENTENCE**](#INTERROGATIVE-SENTENCE)\n",
    " "
   ]
  },
  {
   "cell_type": "markdown",
   "metadata": {},
   "source": [
    "### **SENTENCE**\n",
    "<img src=\"sentence.png\" height=\"450\" width=\"550\" align=\"left\">"
   ]
  },
  {
   "cell_type": "markdown",
   "metadata": {},
   "source": [
    "**பல சொற்கள் ஒன்றாக இணைந்து ஏதேனும் ஒரு பொருளைத் தந்தால் அது sentence எனப்படும்.**\n",
    "\n",
    "\n",
    "**Rose is a beautiful flower.**"
   ]
  },
  {
   "cell_type": "markdown",
   "metadata": {},
   "source": [
    "***"
   ]
  },
  {
   "cell_type": "markdown",
   "metadata": {},
   "source": [
    "### **SUBJECT & PREDICATE**"
   ]
  },
  {
   "cell_type": "markdown",
   "metadata": {},
   "source": [
    "> <p style=\"color:#7B06C8;\"><b>ஒவ்வொரு sentence-ம்  subject மற்றும் predicate-ஐக் கொண்டிருக்கும். ஒரு sentence-ல் நாம் <br></br>எதைப் பற்றிப் பேசுகிறோமோ அது subject எனவும், பின்னர் அந்த subject-ஐப் பற்றி என்ன பேசுகிறோமோ அது predicate எனவும் அழைக்கப்படும்.</b></p>\n",
    "\n",
    "<p style=\"color:red;\"><b>Example: </b></p>\n",
    "\n",
    "> **Rose is a beautiful flower.**"
   ]
  },
  {
   "cell_type": "markdown",
   "metadata": {},
   "source": [
    "***"
   ]
  },
  {
   "cell_type": "markdown",
   "metadata": {},
   "source": [
    "### **TYPES OF SENTENCES**"
   ]
  },
  {
   "cell_type": "markdown",
   "metadata": {},
   "source": [
    "<img src=\"sentences.png\" height=\"400\" width=\"550\" align=\"left\">"
   ]
  },
  {
   "cell_type": "markdown",
   "metadata": {},
   "source": [
    "***"
   ]
  },
  {
   "cell_type": "markdown",
   "metadata": {},
   "source": [
    "#### **ASSERTIVE SENTENCE**\n",
    "> <p style=\"color:#7B06C8;\"><b>ஒரு விஷயத்தை தெரிவிப்பது போன்று அமையும் வாக்கியம் assertive sentence எனப்படும்.</b></p>\n",
    "\n",
    "<p style=\"color:red;\"><b> Example:</b></p>\n",
    "\n",
    "> **Vijaya is a good girl.**"
   ]
  },
  {
   "cell_type": "markdown",
   "metadata": {},
   "source": [
    " ***"
   ]
  },
  {
   "cell_type": "markdown",
   "metadata": {},
   "source": [
    "#### **NEGATIVE SENTENCE**\n",
    "\n",
    "> <p style=\"color:#7B06C8;\"><b>ஒரு விஷயத்தை மறுத்துக் கூறுவது போன்று அமையும் வாக்கியம் negative sentence எனப்படும்.</b></p>\n",
    "\n",
    "<p style=\"color:red;\"><b> Example:</b></p>\n",
    "\n",
    "> **Vijaya is not a good girl.**"
   ]
  },
  {
   "cell_type": "markdown",
   "metadata": {},
   "source": [
    "*** "
   ]
  },
  {
   "cell_type": "markdown",
   "metadata": {},
   "source": [
    "#### **INTERROGATIVE SENTENCE**\n",
    "> <p style=\"color:#7B06C8;\"><b>ஒரு கேள்வியை எழுப்புவது போன்று அமையும் வாக்கியம் interrogative sentence எனப்படும்.</b></p>\n",
    "\n",
    "<p style=\"color:red;\"><b> Example:</b></p>\n",
    "\n",
    "> **Is Nithya a good girl?**"
   ]
  },
  {
   "cell_type": "markdown",
   "metadata": {},
   "source": [
    "***"
   ]
  },
  {
   "cell_type": "code",
   "execution_count": null,
   "metadata": {},
   "outputs": [],
   "source": []
  }
 ],
 "metadata": {
  "kernelspec": {
   "display_name": "Python 3",
   "language": "python",
   "name": "python3"
  },
  "language_info": {
   "codemirror_mode": {
    "name": "ipython",
    "version": 3
   },
   "file_extension": ".py",
   "mimetype": "text/x-python",
   "name": "python",
   "nbconvert_exporter": "python",
   "pygments_lexer": "ipython3",
   "version": "3.6.9"
  }
 },
 "nbformat": 4,
 "nbformat_minor": 2
}
