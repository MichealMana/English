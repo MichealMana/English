{
 "cells": [
  {
   "cell_type": "markdown",
   "metadata": {},
   "source": [
    "<h2 align=\"center\"><b>Grammar In Tamil</b></h2>"
   ]
  },
  {
   "cell_type": "markdown",
   "metadata": {},
   "source": [
    "&nbsp;"
   ]
  },
  {
   "cell_type": "markdown",
   "metadata": {},
   "source": [
    " * [**1.SENTENCE**](#SENTENCE)\n",
    " * [**2.SUBJECT & PREDICATE**](#SUBJECT-&-PREDICATE)\n",
    " * [**3.TYPES OF SENTENCES**](#TYPES-OF-SENTENCES)\n",
    "  * [**3.1 ASSERTIVE SENTENCE**](#ASSERTIVE-SENTENCE)\n",
    "  * [**3.2 NEGATIVE SENTENCE**](#NEGATIVE-SENTENCE)\n",
    "  * [**3.3 INTERROGATIVE SENTENCE**](#INTERROGATIVE-SENTENCE)\n",
    "  * [**3.4 IMPERATIVE SENTENCE**](#IMPERATIVE-SENTENCE)\n",
    "  * [**3.5 EXCLAMATORY SENTENCE**](#EXCLAMATORY-SENTENCE)\n",
    "  * [**3.6 SIMPLE SENTENCE**](#SIMPLE-SENTENCE)\n",
    "  * [**3.7 COMPOUND SENTENCE**](#COMPOUND-SENTENCE)\n",
    "  \n",
    " \n",
    " "
   ]
  },
  {
   "cell_type": "markdown",
   "metadata": {},
   "source": [
    "### **SENTENCE**\n",
    "<img src=\"sentence.png\" height=\"450\" width=\"550\" align=\"left\">"
   ]
  },
  {
   "cell_type": "markdown",
   "metadata": {},
   "source": [
    "**பல சொற்கள் ஒன்றாக இணைந்து ஏதேனும் ஒரு பொருளைத் தந்தால் அது sentence எனப்படும்.**\n",
    "\n",
    "\n",
    "**Rose is a beautiful flower.**"
   ]
  },
  {
   "cell_type": "markdown",
   "metadata": {},
   "source": [
    "***"
   ]
  },
  {
   "cell_type": "markdown",
   "metadata": {},
   "source": [
    "### **English Grammar Mind Map**\n",
    "<img src=\"english-grammar-mind-map.png\" height=\"200\" width=\"200\" align=\"left\">"
   ]
  },
  {
   "cell_type": "markdown",
   "metadata": {},
   "source": [
    "***"
   ]
  },
  {
   "cell_type": "markdown",
   "metadata": {},
   "source": [
    "### **SUBJECT & PREDICATE**"
   ]
  },
  {
   "cell_type": "markdown",
   "metadata": {},
   "source": [
    "> <p style=\"color:#7B06C8;\"><b>ஒவ்வொரு sentence-ம்  subject மற்றும் predicate-ஐக் கொண்டிருக்கும். ஒரு sentence-ல் நாம் <br></br>எதைப் பற்றிப் பேசுகிறோமோ அது subject எனவும், பின்னர் அந்த subject-ஐப் பற்றி என்ன பேசுகிறோமோ அது predicate எனவும் அழைக்கப்படும்.</b></p>\n",
    "\n",
    "<p style=\"color:red;\"><b>Example: </b></p>\n",
    "\n",
    "> **Rose is a beautiful flower.**\n",
    "\n",
    "* [**TOP**](#Grammar-In-Tamil)"
   ]
  },
  {
   "cell_type": "markdown",
   "metadata": {},
   "source": [
    "***"
   ]
  },
  {
   "cell_type": "markdown",
   "metadata": {},
   "source": [
    "### **TYPES OF SENTENCES**"
   ]
  },
  {
   "cell_type": "markdown",
   "metadata": {},
   "source": [
    "<img src=\"sentences.png\" height=\"400\" width=\"550\" align=\"left\">"
   ]
  },
  {
   "cell_type": "markdown",
   "metadata": {},
   "source": [
    "***"
   ]
  },
  {
   "cell_type": "markdown",
   "metadata": {},
   "source": [
    "#### **ASSERTIVE SENTENCE**\n",
    "> <p style=\"color:#7B06C8;\"><b>ஒரு விஷயத்தை தெரிவிப்பது போன்று அமையும் வாக்கியம் assertive sentence எனப்படும்.</b></p>\n",
    "\n",
    "<p style=\"color:red;\"><b> Example:</b></p>\n",
    "\n",
    "> **Vijaya is a good girl.**\n",
    "\n",
    "* [**TOP**](#Grammar-In-Tamil)"
   ]
  },
  {
   "cell_type": "markdown",
   "metadata": {},
   "source": [
    " ***"
   ]
  },
  {
   "cell_type": "markdown",
   "metadata": {},
   "source": [
    "#### **NEGATIVE SENTENCE**\n",
    "\n",
    "> <p style=\"color:#7B06C8;\"><b>ஒரு விஷயத்தை மறுத்துக் கூறுவது போன்று அமையும் வாக்கியம் negative sentence எனப்படும்.</b></p>\n",
    "\n",
    "<p style=\"color:red;\"><b> Example:</b></p>\n",
    "\n",
    "> **Vijaya is not a good girl.**\n",
    "\n",
    "* [**TOP**](#Grammar-In-Tamil)"
   ]
  },
  {
   "cell_type": "markdown",
   "metadata": {},
   "source": [
    "*** "
   ]
  },
  {
   "cell_type": "markdown",
   "metadata": {},
   "source": [
    "#### **INTERROGATIVE SENTENCE**\n",
    "> <p style=\"color:#7B06C8;\"><b>ஒரு கேள்வியை எழுப்புவது போன்று அமையும் வாக்கியம் interrogative sentence எனப்படும்.</b></p>\n",
    "\n",
    "<p style=\"color:red;\"><b> Example:</b></p>\n",
    "\n",
    "> **Is Nithya a good girl?**\n",
    "\n",
    "* [**TOP**](#Grammar-In-Tamil)"
   ]
  },
  {
   "cell_type": "markdown",
   "metadata": {},
   "source": [
    "***"
   ]
  },
  {
   "cell_type": "markdown",
   "metadata": {},
   "source": [
    "#### **IMPERATIVE SENTENCE**\n",
    "\n",
    "> <p style=\"color:#7B06C8;\"><b>வேண்டுகோளாகவோ அல்லது ஆணைகளாகவோ விளங்கும் வாக்கியம் imperative sentence எனப்படும்.<b></p>\n",
    "\n",
    "<p style=\"color:red;\"><b> Example:</b></p>\n",
    "\n",
    "> 1. **Shut the door.**\n",
    "+ **Please do not leave me.**\n",
    "\n",
    "* [**TOP**](#Grammar-In-Tamil)"
   ]
  },
  {
   "cell_type": "markdown",
   "metadata": {},
   "source": [
    "***"
   ]
  },
  {
   "cell_type": "markdown",
   "metadata": {},
   "source": [
    "#### **EXCLAMATORY SENTENCE**\n",
    "\n",
    "> <p style=\"color:#7B06C8;\"><b>நமது உணர்ச்சிகளை வெளிப்படுத்தும் வாக்கியம் exclamatory sentence எனப்படும்.</b></p>\n",
    "\n",
    "<p style=\"color:red;\"><b> Example:</b></p>\n",
    "\n",
    "> 1. **How hot it is!**<br></br>\n",
    "இது எவ்வளவு சூடாக இருக்கிறது!\n",
    "+ **What a noise you are making!**\n",
    "\n",
    "* [**TOP**](#Grammar-In-Tamil)"
   ]
  },
  {
   "cell_type": "markdown",
   "metadata": {},
   "source": [
    "***"
   ]
  },
  {
   "cell_type": "markdown",
   "metadata": {},
   "source": [
    "#### **SIMPLE SENTENCE**"
   ]
  },
  {
   "cell_type": "markdown",
   "metadata": {},
   "source": [
    "> <p style=\"color:#7B06C8;\"><b>ஒரே ஒர் verb-ஐ மட்டும் பெற்றுக் காணப்படுவது simple sentence எனப்படும்.</b></p>\n",
    "\n",
    "<p style=\"color:red;\"><b> Example:</b></p>\n",
    "\n",
    "> 1. **Dog barks.**<br></br>\n",
    "+ **Stop**\n",
    "+ **Don't Stop**\n",
    "\n",
    "* [**TOP**](#Grammar-In-Tamil)"
   ]
  },
  {
   "cell_type": "markdown",
   "metadata": {},
   "source": [
    "***"
   ]
  },
  {
   "cell_type": "markdown",
   "metadata": {},
   "source": [
    "#### **COMPOUND SENTENCE**\n",
    "\n",
    "> <p style=\"color:#7B06C8;\"><b>ஒன்றுக்கும் மேற்பட்ட verbs-ஐப் பெற்றிருப்பது compound sentence எனப்படும்.<br>இதனை co-ordinate clauses எனவும் கூறலாம்.<br><br> ஏனெனில் இதில் தனித்தனி clauses-ஆனது and மூலம் இணைக்கப்பட்டிருக்கும்.<br> இரண்டு தனித்தனி clauses இணைக்கப்பட்டிருந்தால் அதனை double sentence எனவும்,<br> இரண்டுக்கும் மேற்பட்டவை இணைக்கப்பட்டிருந்தால் அதனை multiple sentence எனவும்<br> கூறலாம்.</b></p>\n",
    "\n",
    "<p style=\"color:red;\"><b> Example:</b></p>\n",
    "\n",
    "> 1. **I gave a loud shout and the bear ran away..**<br></br>\n",
    "+ **Night came on and rain fell heavily and we all got wet.**\n",
    "\n",
    "\n",
    "* [**TOP**](#Grammar-In-Tamil)"
   ]
  },
  {
   "cell_type": "markdown",
   "metadata": {},
   "source": [
    "***"
   ]
  },
  {
   "cell_type": "code",
   "execution_count": null,
   "metadata": {},
   "outputs": [],
   "source": []
  }
 ],
 "metadata": {
  "kernelspec": {
   "display_name": "Python 3",
   "language": "python",
   "name": "python3"
  },
  "language_info": {
   "codemirror_mode": {
    "name": "ipython",
    "version": 3
   },
   "file_extension": ".py",
   "mimetype": "text/x-python",
   "name": "python",
   "nbconvert_exporter": "python",
   "pygments_lexer": "ipython3",
   "version": "3.6.9"
  }
 },
 "nbformat": 4,
 "nbformat_minor": 2
}
