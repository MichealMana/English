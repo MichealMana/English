{
 "cells": [
  {
   "cell_type": "markdown",
   "metadata": {},
   "source": [
    "<h2 align=\"center\"><b> Grammar In Tamil </b></h2>"
   ]
  },
  {
   "cell_type": "markdown",
   "metadata": {},
   "source": [
    "&nbsp;"
   ]
  },
  {
   "cell_type": "markdown",
   "metadata": {},
   "source": [
    " * [**SENTENCE**](#SENTENCE)\n",
    " * [**SUBJECT & PREDICATE**](#SUBJECT-&-PREDICATE)\n",
    " * [**TYPES OF SENTENCES**](#TYPES-OF-SENTENCES)\n",
    " * [**ASSERTIVE SENTENCE**](#ASSERTIVE-SENTENCE)\n",
    " "
   ]
  },
  {
   "cell_type": "markdown",
   "metadata": {},
   "source": [
    "### **SENTENCE**"
   ]
  },
  {
   "cell_type": "markdown",
   "metadata": {},
   "source": [
    "<h5><span style=\"color:red;\"><b>Manavalan</b></span></h5>\n",
    "<p><span style=\"color:red;\"><b>Manavalan</b></span></p>"
   ]
  },
  {
   "cell_type": "markdown",
   "metadata": {},
   "source": [
    "**பல சொற்கள் ஒன்றாக இணைந்து ஏதேனும் ஒரு பொருளைத் தந்தால் அது sentence எனப்படும்.**\n",
    "\n",
    "\n",
    "**Rose is a beautiful flower.**"
   ]
  },
  {
   "cell_type": "markdown",
   "metadata": {},
   "source": [
    "***"
   ]
  },
  {
   "cell_type": "markdown",
   "metadata": {},
   "source": [
    "### **SUBJECT & PREDICATE**"
   ]
  },
  {
   "cell_type": "markdown",
   "metadata": {},
   "source": [
    "**ஒவ்வொரு sentence-ன் subject மற்றும் predicate-ஐக் கொண்டிருக்கும். ஒரு sentence-ல் நாம் எதைப் <br></br>பற்றிப் பேசுகிறோமோ அது subject எனவும், பின்னர் அந்த subject-ஐப் பற்றி என்ன பேசுகிறோமோ <br></br>அது predicate எனவும் அழைக்கப்படும்.**\n",
    "\n",
    "<p style=color:red><b>Eg:</b></p>\n",
    "\n",
    "**Rose is a beautiful flower.**\n",
    "\n",
    "<br></br>\n"
   ]
  },
  {
   "cell_type": "markdown",
   "metadata": {},
   "source": [
    "***"
   ]
  },
  {
   "cell_type": "markdown",
   "metadata": {},
   "source": [
    "### **TYPES OF SENTENCES**"
   ]
  },
  {
   "cell_type": "markdown",
   "metadata": {},
   "source": [
    "<img src=\"sentences.png\" height=\"400\" width=\"550\" align=\"left\">"
   ]
  },
  {
   "cell_type": "markdown",
   "metadata": {},
   "source": [
    "***"
   ]
  },
  {
   "cell_type": "markdown",
   "metadata": {},
   "source": [
    "#### **ASSERTIVE SENTENCE**\n",
    "**ஒரு விஷயத்தை தெரிவிப்பது போன்று அமையும் வாக்கியம் assertive sentence எனப்படும்.**\n",
    "\n",
    "<p style=color:red><b>Eg:</b></p>\n",
    "\n",
    "**Vijaya is a good girl.**"
   ]
  },
  {
   "cell_type": "code",
   "execution_count": null,
   "metadata": {},
   "outputs": [],
   "source": []
  }
 ],
 "metadata": {
  "kernelspec": {
   "display_name": "Python 3",
   "language": "python",
   "name": "python3"
  },
  "language_info": {
   "codemirror_mode": {
    "name": "ipython",
    "version": 3
   },
   "file_extension": ".py",
   "mimetype": "text/x-python",
   "name": "python",
   "nbconvert_exporter": "python",
   "pygments_lexer": "ipython3",
   "version": "3.6.9"
  }
 },
 "nbformat": 4,
 "nbformat_minor": 2
}
