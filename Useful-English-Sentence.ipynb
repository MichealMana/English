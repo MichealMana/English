{
 "cells": [
  {
   "cell_type": "markdown",
   "metadata": {},
   "source": [
    "&nbsp;"
   ]
  },
  {
   "cell_type": "markdown",
   "metadata": {},
   "source": [
    "<h3 align=\"center\"><b>Frequently Used English Sentences.</b></h3> "
   ]
  },
  {
   "cell_type": "markdown",
   "metadata": {},
   "source": [
    "&nbsp;"
   ]
  },
  {
   "cell_type": "markdown",
   "metadata": {},
   "source": [
    "***"
   ]
  },
  {
   "cell_type": "markdown",
   "metadata": {},
   "source": [
    "### **will be**\n",
    "\n",
    "> #### **You'll be notified.**\n",
    "**உங்களுக்கு அறிவிக்கப்படும்.**\n",
    "\n",
    "> **Output will be empty.**<br>\n",
    "**வெளியீடு காலியாக இருக்கும்.**"
   ]
  },
  {
   "cell_type": "markdown",
   "metadata": {},
   "source": [
    "***"
   ]
  },
  {
   "cell_type": "markdown",
   "metadata": {},
   "source": [
    "### **won't be**\n",
    "\n",
    "> #### **You won't be able to see that.**\n",
    "**நீங்கள் அதை பார்க்க முடியாது.**\n"
   ]
  },
  {
   "cell_type": "markdown",
   "metadata": {},
   "source": [
    "***"
   ]
  },
  {
   "cell_type": "markdown",
   "metadata": {},
   "source": [
    "### **will not be**\n",
    "> #### **Company will not be going to extend their contract for next year.**\n",
    "**நிறுவனம் அடுத்த ஆண்டுக்கான ஒப்பந்தத்தை நீட்டிக்கப் போவதில்லை.**\n",
    "\n",
    "> #### **Company will not be to extend their contract for next year.**\n",
    "**நிறுவனம் அடுத்த ஆண்டுக்கான ஒப்பந்தத்தை நீட்டிக்காது.**\n",
    "\n"
   ]
  },
  {
   "cell_type": "markdown",
   "metadata": {},
   "source": [
    "***"
   ]
  },
  {
   "cell_type": "markdown",
   "metadata": {},
   "source": [
    "### **being**\n",
    "\n",
    "> #### **Global internet being attacked by shark**\n",
    "**உலகளாவிய இணையம் சுறா மூலம் தாக்கப்படுகிறது.**\n",
    "\n"
   ]
  },
  {
   "cell_type": "markdown",
   "metadata": {},
   "source": [
    "***"
   ]
  },
  {
   "cell_type": "markdown",
   "metadata": {},
   "source": [
    "### **as being**\n",
    "\n",
    "> #### **I have faced such situation several times as being a teacher.**\n",
    "**நான் ஒரு ஆசிரியராக பல முறை இத்தகைய சூழ்நிலையை எதிர்கொண்டேன்.**"
   ]
  },
  {
   "cell_type": "code",
   "execution_count": null,
   "metadata": {},
   "outputs": [],
   "source": []
  },
  {
   "cell_type": "markdown",
   "metadata": {},
   "source": [
    "***"
   ]
  },
  {
   "cell_type": "markdown",
   "metadata": {},
   "source": [
    "### **dosen't | does not**\n",
    ">#### **it doesn't make good programmer.**\n",
    "**இது நல்ல புரோகிராமரை உருவாக்காது**\n",
    "\n",
    "> #### **that file doesn't in ubuntu.**\n",
    "**அந்த கோப்பு உபுண்டுவில் இல்லை.**\n",
    "\n",
    "> #### **Why doesn't anything show up in the bottom portion when I run machine**\n",
    "**நான் இயந்திரத்தை இயக்கும்போது ஏன் கீழ் பகுதியில் எதுவும் காண்பிக்கப்படவில்லை**\n",
    "\n",
    "> #### **does not work.**\n",
    "**வேலை செய்ய வில்லை.**\n",
    "\n",
    "\n"
   ]
  },
  {
   "cell_type": "markdown",
   "metadata": {},
   "source": [
    "***"
   ]
  },
  {
   "cell_type": "markdown",
   "metadata": {},
   "source": [
    "### **is used**\n",
    ">#### **It is used to deduce the format of a CSV file.**\n",
    "**இது ஒரு CSV கோப்பின் வடிவமைப்பைக் குறைக்கப் பயன்படுகிறது.**\n",
    "\n"
   ]
  },
  {
   "cell_type": "markdown",
   "metadata": {},
   "source": [
    "***"
   ]
  },
  {
   "cell_type": "markdown",
   "metadata": {},
   "source": [
    "### **would**\n",
    "> #### **Would it work?**\n",
    "**அது வேலை செய்யுமா?**\n",
    "> #### **Would this work?**\n",
    "**இது வேலை செய்யுமா?**"
   ]
  },
  {
   "cell_type": "markdown",
   "metadata": {},
   "source": [
    "****"
   ]
  },
  {
   "cell_type": "markdown",
   "metadata": {},
   "source": [
    "### **wouldn't | would  not**\n",
    "> #### **Anyone would  not find my MAC address.**\n",
    "**என் MAC முகவரியை யாரும் கண்டுபிடிக்க முடியாது.**\n",
    "\n",
    "> #### **This would not work.**\n",
    "**இது வேலை செய்யாது.**\n",
    "\n"
   ]
  },
  {
   "cell_type": "markdown",
   "metadata": {},
   "source": [
    "*** "
   ]
  },
  {
   "cell_type": "markdown",
   "metadata": {},
   "source": [
    "### **would be**\n",
    "> #### **CEO would be fired due to illegal.**\n",
    "**சட்டவிரோத காரணமாக தலைமை நிர்வாக அதிகாரி பணிநீக்கம் செய்யப்படுவார்.**\n"
   ]
  },
  {
   "cell_type": "markdown",
   "metadata": {},
   "source": [
    "***"
   ]
  },
  {
   "cell_type": "markdown",
   "metadata": {},
   "source": [
    "### **would not be**\n",
    "> #### **Company would not be to extend contract for next year.**\n",
    "**நிறுவனம் அடுத்த ஆண்டுக்கான ஒப்பந்தத்தை நீட்டிக்க முடியாது.**\n"
   ]
  },
  {
   "cell_type": "markdown",
   "metadata": {},
   "source": [
    "***"
   ]
  },
  {
   "cell_type": "markdown",
   "metadata": {},
   "source": [
    "### **have been**\n",
    "\n",
    "> #### **I have been**\n",
    "**நான் இருந்திருக்கிறேன்**\n",
    "\n",
    "> #### **These people have been invited.**\n",
    "**இந்த நபர்கள் அழைக்கப்பட்டுள்ளனர்.**\n",
    "\n",
    "> #### **These people have been invited to join the group.**\n",
    "**இந்த நபர்கள் குழுவில் சேர அழைக்கப்பட்டுள்ளனர்.**\n",
    "\n",
    "> #### **They have been approved.**\n",
    "**அவர்கள் அனுமதிக்கப்பட்டுள்ளனர்.**\n",
    "\n",
    "> #### **I've been using vivaldi browser last 10 yrs.**\n",
    "**நான் கடந்த 10 ஆண்டுகளாக விவால்டி உலாவியைப் பயன்படுத்துகிறேன்.**\n",
    "\n"
   ]
  },
  {
   "cell_type": "markdown",
   "metadata": {},
   "source": [
    "***"
   ]
  },
  {
   "cell_type": "markdown",
   "metadata": {},
   "source": [
    "### **haven't | have not**\n",
    ">#### **but they have not yet accepted.**\n",
    "**ஆனால் அவர்கள் இன்னும் ஏற்கவில்லை.**\n",
    "\n",
    "> #### **But they have not yet accepted.**\n",
    "**ஆனால் அவர்கள் இதுவரை ஏற்றுக்கொள்ளவில்லை.**"
   ]
  },
  {
   "cell_type": "markdown",
   "metadata": {},
   "source": [
    "**** "
   ]
  },
  {
   "cell_type": "markdown",
   "metadata": {},
   "source": [
    "### **had been**\n",
    "\n",
    "> #### **I had been go to chennai.**\n",
    "**நான் சென்னைக்கு போயிருந்தேன்.**\n",
    "\n",
    "> #### **These people had been invited to join the group.**\n",
    "**இந்த நபர்கள் குழுவில் சேர அழைக்கப்பட்டு இருந்தனர்.**\n",
    "\n",
    "> #### **I had been used vivaldi browser last 10 yrs.**\n",
    "**நான் கடந்த 10 ஆண்டுகளாக விவால்டி உலாவியைப் பயன்படுத்தினேன்.**\n"
   ]
  },
  {
   "cell_type": "markdown",
   "metadata": {},
   "source": [
    "***"
   ]
  },
  {
   "cell_type": "markdown",
   "metadata": {},
   "source": [
    "### **has**\n",
    "\n",
    "> #### **has arrived**\n",
    "**வந்துவிட்டது**\n",
    "\n",
    "> #### **van has arrived**\n",
    "**வேன் வந்துவிட்டது**"
   ]
  },
  {
   "cell_type": "markdown",
   "metadata": {},
   "source": [
    "***"
   ]
  },
  {
   "cell_type": "markdown",
   "metadata": {},
   "source": [
    "### **Have**\n",
    ">1. **Do we have class today at 5?**<br>\n",
    "**இன்று 5 மணிக்கு வகுப்பு இருக்கிறதா?**\n",
    "2. **Does someone have pen?**<br>\n",
    "**யாராவது பேனா வைத்திருக்கிறார்களா?**\n"
   ]
  },
  {
   "cell_type": "markdown",
   "metadata": {},
   "source": [
    "***"
   ]
  },
  {
   "cell_type": "markdown",
   "metadata": {},
   "source": [
    "### **can't**\n",
    ">#### **Can't see what is wrong here.**\n",
    "**என்ன தவறு என்று இங்கே பார்க்க முடியவில்லை.**"
   ]
  },
  {
   "cell_type": "markdown",
   "metadata": {},
   "source": [
    "***"
   ]
  },
  {
   "cell_type": "markdown",
   "metadata": {},
   "source": [
    "### **can be used**\n",
    "\n",
    "> #### **can be used to send**\n",
    "**அனுப்ப பயன்படுத்தலாம்**"
   ]
  },
  {
   "cell_type": "markdown",
   "metadata": {},
   "source": [
    "*** "
   ]
  },
  {
   "cell_type": "markdown",
   "metadata": {},
   "source": [
    "### **If instead,**\n",
    "#### **If instead,**\n",
    "**அதற்கு பதிலாக,**"
   ]
  },
  {
   "cell_type": "markdown",
   "metadata": {},
   "source": [
    "***"
   ]
  },
  {
   "cell_type": "markdown",
   "metadata": {},
   "source": [
    "### **For that,**\n",
    "#### **For that, we will have to use**\n",
    "**அதற்காக, நாம் பயன்படுத்த வேண்டியிருக்கும்**"
   ]
  },
  {
   "cell_type": "markdown",
   "metadata": {},
   "source": [
    "***"
   ]
  },
  {
   "cell_type": "markdown",
   "metadata": {},
   "source": [
    "### **said to be**\n",
    "**என்று கூறப்படுகிறது**\n",
    "\n",
    "> <p style=\"color:brown;\"><b> A function said to be. <br></br>ஒரு செயல்பாடு என்று கூறப்படுகிறது.</b></p>\n",
    "\n",
    "\n",
    "\n"
   ]
  },
  {
   "cell_type": "markdown",
   "metadata": {},
   "source": [
    "***"
   ]
  },
  {
   "cell_type": "markdown",
   "metadata": {},
   "source": [
    "### **so as you see**\n",
    "**நீங்கள் பார்ப்பது போல்**\n",
    "\n",
    "> <p style=\"color:brown;\"><b>so as you see in this picture.<br></br>இந்த படத்தில் நீங்கள் பார்ப்பது போல.</b></p>"
   ]
  },
  {
   "cell_type": "markdown",
   "metadata": {},
   "source": [
    "***"
   ]
  },
  {
   "cell_type": "markdown",
   "metadata": {},
   "source": [
    "### **so**\n",
    "**எனவே**\n",
    "\n",
    "> <p style=\"color:brown;\"><b>so let's be positive.\n",
    ".<br></br>எனவே நேர்மறையாக இருப்போம்.</b></p>\n"
   ]
  },
  {
   "cell_type": "markdown",
   "metadata": {},
   "source": [
    "***"
   ]
  },
  {
   "cell_type": "markdown",
   "metadata": {},
   "source": [
    "### **hence of**\n",
    "**எனவே**\n",
    "> **Single quotes doesn’t manipulate variables, hence output will be B**\n",
    "\n",
    "> **Pyton doesn't have that features, hence output will be blank.**<br>\n",
    "**பைத்தானுக்கு அந்த அம்சங்கள் இல்லை, எனவே வெளியீடு காலியாக இருக்கும்.**\n"
   ]
  },
  {
   "cell_type": "markdown",
   "metadata": {},
   "source": [
    "***"
   ]
  },
  {
   "cell_type": "markdown",
   "metadata": {},
   "source": [
    "### **If so**\n",
    "**அப்படிஎன்றால்**\n",
    "\n",
    "**OR**\n",
    "\n",
    "**அப்படினா**\n",
    "\n",
    "> <p style=\"color:brown;\"><b>if so, you come with me.<br></br>அப்படியானால், நீங்கள் என்னுடன் வாருங்கள்.</b></p>\n"
   ]
  },
  {
   "cell_type": "markdown",
   "metadata": {},
   "source": [
    "***"
   ]
  },
  {
   "cell_type": "markdown",
   "metadata": {},
   "source": [
    "### **Check whether**\n",
    "**சரிபார்க்கவும்**\n",
    "\n",
    "> <p style=\"color:brown;\"><b>1. Check whether casvfile has header or not.<br>\n",
    "Casvfile க்கு தலைப்பு இருக்கிறதா இல்லையா என்பதைச் சரிபார்க்கவும்.<br><br>\n",
    "2.Check whether he come or not.<br>\n",
    "அவர் வந்தாரா இல்லையா என்பதை சரிபார்க்கவும்.</p>\n"
   ]
  },
  {
   "cell_type": "markdown",
   "metadata": {},
   "source": [
    "****"
   ]
  },
  {
   "cell_type": "markdown",
   "metadata": {},
   "source": [
    "###  **What if**\n",
    "\n",
    "> <p style=\"color:brown;font-size:16px;font-weight:bolder\"><b>1. What if we want to print the some random middle character?</p>\n",
    "  <p style=\"color:balck;font-size:14px;font-weight:bolder\"><b>\n",
    "  சில சீரற்ற நடுத்தர எழுத்தை அச்சிட விரும்பினால் என்ன செய்வது?</p>\n",
    "<br>\n",
    "<br>\n",
    "> <p style=\"color:brown;font-size:16px;font-weight:bolder\"><b> 2. What do if she want to marry him?<br></p>\n",
    "  <p style=\"color:black;font-size:14px;font-weight:bolder\"><b>அவள் அவனை திருமணம் செய்ய விரும்பினால் என்ன செய்வது?</p>"
   ]
  },
  {
   "cell_type": "markdown",
   "metadata": {},
   "source": [
    "***"
   ]
  },
  {
   "cell_type": "markdown",
   "metadata": {},
   "source": [
    "### **As far as**\n",
    " > #### **1. As far as i know**\n",
    "**எனக்கு தெரிந்தவரையில்**\n",
    "\n",
    "> #### **2. As far as I've read it**\n",
    "**நான் அதைப் படித்தவரை**\n"
   ]
  },
  {
   "cell_type": "markdown",
   "metadata": {},
   "source": [
    "***"
   ]
  },
  {
   "cell_type": "markdown",
   "metadata": {},
   "source": [
    "### **As of now**\n",
    "> **As of now I am aligned for some task .**<br>\n",
    "**இப்போதைக்கு நான் சில பணிகளுக்காக இணைந்திருக்கிறேன்.**"
   ]
  },
  {
   "cell_type": "markdown",
   "metadata": {},
   "source": [
    "***"
   ]
  },
  {
   "cell_type": "markdown",
   "metadata": {},
   "source": [
    "### **So far**\n",
    "> #### **so far i know**\n",
    "**இதுவரை எனக்கு தெரியும்**\n",
    "\n",
    "> #### **So far so good.**"
   ]
  },
  {
   "cell_type": "markdown",
   "metadata": {},
   "source": [
    "***"
   ]
  },
  {
   "cell_type": "markdown",
   "metadata": {},
   "source": [
    "### **so for**\n",
    ">#### **so for i know**\n",
    "**அதனால் எனக்குத் தெரியும்**"
   ]
  },
  {
   "cell_type": "markdown",
   "metadata": {},
   "source": [
    "***"
   ]
  },
  {
   "cell_type": "markdown",
   "metadata": {},
   "source": [
    "### **as soon as**\n",
    "> #### **as soon as we can.**\n",
    "**எங்களால் முடிந்தவரை.**\n",
    "\n",
    "> #### **we help to you as soon as we can.**\n",
    "**எங்களால் முடிந்தவரை நாங்கள் உங்களுக்கு உதவுகிறோம்.**\n"
   ]
  },
  {
   "cell_type": "markdown",
   "metadata": {},
   "source": [
    "***"
   ]
  },
  {
   "cell_type": "markdown",
   "metadata": {},
   "source": [
    "### **to as  |  to be**\n",
    ">#### **Convert Unicode point to as Character**\n",
    "**யூனிகோட் புள்ளியை கேரக்டராக மாற்றவும்**\n",
    "\n",
    "**OR**\n",
    "\n",
    ">#### **Convert Unicode point to be Character**\n",
    "**யூனிகோட் புள்ளியை கேரக்டராக மாற்றவும்**\n",
    "\n",
    "> #### **presumed to be in CSV format**\n",
    "**CSV வடிவத்தில் இருப்பதாக கருதப்படுகிறது**\n",
    "\n",
    "> #### **appears to be best.**\n",
    "**சிறந்ததாக தோன்றுகிறது.**\n",
    "\n",
    "> #### **needs to be**\n",
    "**இருக்க வேண்டும்**\n",
    "\n",
    ">#### **it needs to be like**\n",
    "**அது போல இருக்க வேண்டும்**\n",
    "\n",
    "> #### **it needs to be like her**\n",
    "**அது அவளைப் போல இருக்க வேண்டும்**\n",
    "\n"
   ]
  },
  {
   "cell_type": "markdown",
   "metadata": {},
   "source": [
    "***"
   ]
  },
  {
   "cell_type": "markdown",
   "metadata": {},
   "source": [
    "### **either**\n",
    "\n",
    "> #### **Either apple or orange**\n",
    "**ஆப்பிள் அல்லது ஆரஞ்சு**\n"
   ]
  },
  {
   "cell_type": "markdown",
   "metadata": {},
   "source": [
    "***"
   ]
  },
  {
   "cell_type": "markdown",
   "metadata": {},
   "source": [
    "### **In order to**\n",
    "\n",
    "> #### **In order to separate characters in the entries, we use that.**\n",
    "**உள்ளீடுகளில் எழுத்துக்களை பிரிக்க, அதைப் பயன்படுத்துகிறோம்.**\n",
    "\n",
    "#### **in order to verify**\n",
    "**சரி பார்ப்பதற்காக**\n",
    "> #### **Here we came in order to verify.**\n",
    "**இங்கே நாங்கள் பார்ப்பதற்காக வந்தோம்.**\n",
    "\n",
    "\n"
   ]
  },
  {
   "cell_type": "markdown",
   "metadata": {},
   "source": [
    "***"
   ]
  },
  {
   "cell_type": "markdown",
   "metadata": {},
   "source": [
    "### **After that**\n",
    "> #### **After that you can install it.**\n",
    "**அதன் பிறகு நீங்கள் அதை நிறுவலாம்**"
   ]
  },
  {
   "cell_type": "markdown",
   "metadata": {},
   "source": [
    "***"
   ]
  },
  {
   "cell_type": "markdown",
   "metadata": {},
   "source": [
    "### **since**\n",
    "\n",
    "> #### **1. Since we allow to him, he will survival**\n",
    "> **நாம் அவரை அனுமதிப்பதால், அவர் பிழைப்பார்.**\n",
    "\n",
    "\n",
    "> #### **2. Since we teach, he will get a job.**\n",
    "> **நாங்கள் கற்பிப்பதால், அவருக்கு வேலை கிடைக்கும்.**\n",
    "\n",
    "> #### **3. Since, Python doesn't have anything as such.**\n"
   ]
  },
  {
   "cell_type": "markdown",
   "metadata": {},
   "source": [
    "***"
   ]
  },
  {
   "cell_type": "markdown",
   "metadata": {},
   "source": [
    "### **However**\n",
    "**எனினும் or இருப்பினும்**\n",
    "> #### **However if it is**\n",
    "> **இருப்பினும் அது இருந்தால்**\n",
    "\n"
   ]
  },
  {
   "cell_type": "markdown",
   "metadata": {},
   "source": [
    "### **whenever**\n",
    "\n",
    "> #### **whenever that picture is seen**\n",
    "**அந்த படம் பார்க்கும்போதெல்லாம்**\n",
    "\n",
    "> #### **whenever i need**\n",
    "**எனக்கு தேவையான போதெல்லாம்**\n",
    "\n",
    "> #### **whenever you need**\n",
    "**உங்களுக்கு தேவையான போதெல்லாம்**\n",
    "\n",
    "> #### **whenever i use**\n",
    "**நான் பயன்படுத்தும் போதெல்லாம்**\n",
    "\n",
    "\n"
   ]
  },
  {
   "cell_type": "markdown",
   "metadata": {},
   "source": [
    "****"
   ]
  },
  {
   "cell_type": "markdown",
   "metadata": {},
   "source": [
    "### **if**\n",
    "> #### **What will happen if you use this command?**\n",
    "**இந்த கட்டளையைப் பயன்படுத்தினால் என்ன நடக்கும்?**\n",
    "\n",
    "> #### **To determine if you should use 'a' or 'an' before a word,**\n",
    "**ஒரு சொல்லுக்கு முன் 'a' அல்லது 'an' ஐப் பயன்படுத்த வேண்டுமா என்பதைத் தீர்மானிக்க,**"
   ]
  },
  {
   "cell_type": "markdown",
   "metadata": {},
   "source": [
    "***"
   ]
  },
  {
   "cell_type": "markdown",
   "metadata": {},
   "source": [
    "### **Even if**\n",
    "**இருந்தாலும் or இருந்தபோதிலும்**\n",
    "\n",
    "> #### **1. Most Hindus in Malaysia speak Tamil , even if they are Gujarati or Telegu.**\n",
    "**மலேசியாவில் உள்ள பெரும்பாலான இந்துக்கள் குஜராத்தி அல்லது தெலுங்காக இருந்தாலும் தமிழ் பேசுகிறார்கள்.**\n",
    "\n",
    ">#### **2. Even if  it is True, Which may still fail**\n",
    "**அது உண்மயா  இருந்தாலும், அது இன்னும் தோல்வியடையக்கூடும்**\n",
    "\n"
   ]
  },
  {
   "cell_type": "markdown",
   "metadata": {},
   "source": [
    "***"
   ]
  },
  {
   "cell_type": "markdown",
   "metadata": {},
   "source": [
    "### **somehow**\n",
    "**எப்படியோ**\n"
   ]
  },
  {
   "cell_type": "markdown",
   "metadata": {},
   "source": [
    "***"
   ]
  },
  {
   "cell_type": "markdown",
   "metadata": {},
   "source": [
    "### **once**\n",
    "> #### **once every 28 days**\n",
    "**ஒவ்வொரு 28 நாட்களுக்கு ஒரு முறை**"
   ]
  },
  {
   "cell_type": "markdown",
   "metadata": {},
   "source": [
    " ***"
   ]
  },
  {
   "cell_type": "markdown",
   "metadata": {},
   "source": [
    "### **until**\n",
    "> #### **It will output y until its aborted**\n",
    "**அது நிறுத்தப்படும் வரை y ஐ வெளியிடும்**"
   ]
  },
  {
   "cell_type": "markdown",
   "metadata": {},
   "source": [
    "***"
   ]
  },
  {
   "cell_type": "markdown",
   "metadata": {},
   "source": [
    "### **regardless**\n",
    "**பொருட்படுத்தாமல்**\n"
   ]
  },
  {
   "cell_type": "markdown",
   "metadata": {},
   "source": [
    "***"
   ]
  },
  {
   "cell_type": "markdown",
   "metadata": {},
   "source": [
    "### **unless**\n",
    "**தவிர**\n",
    "> #### **you take any one unless this**\n",
    "**இது தவிர நீங்கள் எதையும் எடுத்துக் கொள்ளுங்கள்**"
   ]
  },
  {
   "cell_type": "markdown",
   "metadata": {},
   "source": [
    "***"
   ]
  },
  {
   "cell_type": "markdown",
   "metadata": {},
   "source": [
    "### **as many as**\n",
    "> #### **Add as many as you like**\n",
    "**நீங்கள் விரும்பும் பலவற்றைச் சேர்க்கவும்**\n",
    "\n",
    "> #### **as many as you**\n",
    "**as many as you**"
   ]
  },
  {
   "cell_type": "markdown",
   "metadata": {},
   "source": [
    "***"
   ]
  },
  {
   "cell_type": "markdown",
   "metadata": {},
   "source": [
    "### **then**\n",
    "**பிறகு,அப்பொழுது(at that time)**\n",
    "> #### **His father was busy then.**\n",
    "**அப்போது அவரது தந்தை பிஸியாக இருந்தார்.**\n",
    ">#### **his father was busy then.**\n",
    "**அவரது தந்தை அப்போது பிஸியாக இருந்தார்.**"
   ]
  },
  {
   "cell_type": "markdown",
   "metadata": {},
   "source": [
    "***"
   ]
  },
  {
   "cell_type": "markdown",
   "metadata": {},
   "source": [
    "#### **for** \n",
    "> 1. **In which for each value.**<br>\n",
    "**இதில் ஒவ்வொரு மதிப்புக்கும்.**"
   ]
  },
  {
   "cell_type": "markdown",
   "metadata": {},
   "source": [
    "#### **might**\n",
    "\n",
    "> 1. **You might have to set this**<br>\n",
    "**இதை நீங்கள் அமைக்க வேண்டியிருக்கும்**"
   ]
  },
  {
   "cell_type": "code",
   "execution_count": null,
   "metadata": {},
   "outputs": [],
   "source": []
  },
  {
   "cell_type": "markdown",
   "metadata": {},
   "source": [
    "## **Sentences**"
   ]
  },
  {
   "cell_type": "markdown",
   "metadata": {},
   "source": [
    "### **Difference between will and would**\n",
    "\n",
    "> #### **I would share to you**\n",
    "**நான் உங்களிடம் பகிர்ந்து *கொள்வேன்* .**\n",
    "\n",
    "> #### **I will share to you**\n",
    "**நான் உங்களுக்கு பகிர்ந்து *கொள்கிறேன்* .**"
   ]
  },
  {
   "cell_type": "markdown",
   "metadata": {},
   "source": [
    "***"
   ]
  },
  {
   "cell_type": "markdown",
   "metadata": {},
   "source": [
    "> #### **I make toy every friday**\n",
    "**ஒவ்வொரு வெள்ளிக்கிழமையும் நான் பொம்மை செய்கிறேன்**"
   ]
  },
  {
   "cell_type": "markdown",
   "metadata": {},
   "source": [
    "***"
   ]
  },
  {
   "cell_type": "markdown",
   "metadata": {},
   "source": [
    "> #### **it will certainly fail**\n",
    "**அது நிச்சயமாக தோல்வியடையும்**"
   ]
  },
  {
   "cell_type": "markdown",
   "metadata": {},
   "source": [
    "***"
   ]
  },
  {
   "cell_type": "markdown",
   "metadata": {},
   "source": [
    "> #### **he will read all the stuff**\n",
    "**அவர் எல்லாவற்றையும் படிப்பார்**\n",
    "\n",
    "> #### **i will read all the stuff**\n",
    "**நான் எல்லாவற்றையும் படிப்பேன்**"
   ]
  },
  {
   "cell_type": "markdown",
   "metadata": {},
   "source": [
    "***"
   ]
  },
  {
   "cell_type": "markdown",
   "metadata": {},
   "source": [
    "> #### **What time you prefer?**\n",
    "**நீங்கள் எந்த நேரத்தை விரும்புகிறீர்கள்?**\n"
   ]
  },
  {
   "cell_type": "markdown",
   "metadata": {},
   "source": [
    "***"
   ]
  },
  {
   "cell_type": "markdown",
   "metadata": {},
   "source": [
    "> #### **We're working on getting it fixed as soon as we can.**\n",
    "**எங்களால் முடிந்தவரை அதை சரிசெய்யும் பணியில் ஈடுபட்டுள்ளோம்.**\n"
   ]
  },
  {
   "cell_type": "markdown",
   "metadata": {},
   "source": [
    "***"
   ]
  },
  {
   "cell_type": "markdown",
   "metadata": {},
   "source": [
    "> #### **on it**\n",
    "**அதில்**"
   ]
  },
  {
   "cell_type": "markdown",
   "metadata": {},
   "source": [
    "***"
   ]
  },
  {
   "cell_type": "markdown",
   "metadata": {},
   "source": [
    "> #### **specific**\n",
    "**குறிப்பிட்ட**\n"
   ]
  },
  {
   "cell_type": "markdown",
   "metadata": {},
   "source": [
    "***"
   ]
  },
  {
   "cell_type": "markdown",
   "metadata": {},
   "source": [
    "> #### **These people invited to join the group.**\n",
    "**இந்த நபர்கள் குழுவில் சேர அழைக்கப்பட்டனர்.**\n",
    "\n"
   ]
  },
  {
   "cell_type": "markdown",
   "metadata": {},
   "source": [
    "***"
   ]
  },
  {
   "cell_type": "markdown",
   "metadata": {},
   "source": [
    "> #### **They'll have dicuss about the syllabus.**\n",
    "**They will have dicuss about the syllabus.**<br>\n",
    "**அவர்கள் பாடத்திட்டத்தைப் பற்றி விவாதிப்பார்கள்**\n",
    "\n",
    "> #### **They'll dicuss about the syllabus**\n",
    "**அவர்கள் பாடத்திட்டத்தைப் பற்றி விவாதிப்பார்கள்.**"
   ]
  },
  {
   "cell_type": "markdown",
   "metadata": {},
   "source": [
    "***"
   ]
  },
  {
   "cell_type": "markdown",
   "metadata": {},
   "source": [
    "> #### **It was successfuly shared.**\n",
    "**அது வெற்றிகரமாக பகிரப்பட்டது.**\n"
   ]
  },
  {
   "cell_type": "markdown",
   "metadata": {},
   "source": [
    "***"
   ]
  },
  {
   "cell_type": "markdown",
   "metadata": {},
   "source": [
    "> #### **what are u doing right now?**\n",
    "**நீங்கள் இப்போது என்ன செய்கிறீர்கள்?**"
   ]
  },
  {
   "cell_type": "markdown",
   "metadata": {},
   "source": [
    "***"
   ]
  },
  {
   "cell_type": "markdown",
   "metadata": {},
   "source": [
    "> #### **I am teaching everyone.**\n",
    "**நான் அனைவருக்கும் கற்பிக்கிறேன்.**"
   ]
  },
  {
   "cell_type": "markdown",
   "metadata": {},
   "source": [
    "***"
   ]
  },
  {
   "cell_type": "markdown",
   "metadata": {},
   "source": [
    "> #### **But no matter what**\n",
    "**ஆனால் எதுவாக இருந்தாலும் சரி**"
   ]
  },
  {
   "cell_type": "markdown",
   "metadata": {},
   "source": [
    "***"
   ]
  },
  {
   "cell_type": "markdown",
   "metadata": {},
   "source": [
    ">#### **just now**\n",
    "**இப்போது தான்**\n"
   ]
  },
  {
   "cell_type": "markdown",
   "metadata": {},
   "source": [
    "***"
   ]
  },
  {
   "cell_type": "markdown",
   "metadata": {},
   "source": [
    "> #### **Python doesn't have anything as such**\n",
    "**பைதானில் அப்படி எதுவும் இல்லை**"
   ]
  },
  {
   "cell_type": "markdown",
   "metadata": {},
   "source": [
    "***"
   ]
  },
  {
   "cell_type": "markdown",
   "metadata": {},
   "source": [
    "> #### **You will get a more comprehensive answer.**\n",
    "**நீங்கள் இன்னும் விரிவான பதிலைப் பெறுவீர்கள்.**"
   ]
  },
  {
   "cell_type": "markdown",
   "metadata": {},
   "source": [
    "***"
   ]
  },
  {
   "cell_type": "markdown",
   "metadata": {},
   "source": [
    "> #### **This is why**\n",
    "**இதனால்தான்**"
   ]
  },
  {
   "cell_type": "code",
   "execution_count": null,
   "metadata": {},
   "outputs": [],
   "source": []
  }
 ],
 "metadata": {
  "kernelspec": {
   "display_name": "Python 3",
   "language": "python",
   "name": "python3"
  },
  "language_info": {
   "codemirror_mode": {
    "name": "ipython",
    "version": 3
   },
   "file_extension": ".py",
   "mimetype": "text/x-python",
   "name": "python",
   "nbconvert_exporter": "python",
   "pygments_lexer": "ipython3",
   "version": "3.6.9"
  }
 },
 "nbformat": 4,
 "nbformat_minor": 2
}
