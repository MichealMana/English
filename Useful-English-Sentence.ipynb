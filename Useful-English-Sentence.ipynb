{
 "cells": [
  {
   "cell_type": "markdown",
   "metadata": {},
   "source": [
    "&nbsp;"
   ]
  },
  {
   "cell_type": "markdown",
   "metadata": {},
   "source": [
    "<h3 align=\"center\"><b>Frequently Used English Sentences.</b></h3> "
   ]
  },
  {
   "cell_type": "markdown",
   "metadata": {},
   "source": [
    "&nbsp;"
   ]
  },
  {
   "cell_type": "markdown",
   "metadata": {},
   "source": [
    "#### **Would it work?**\n",
    "**அது வேலை செய்யுமா?**"
   ]
  },
  {
   "cell_type": "markdown",
   "metadata": {},
   "source": [
    "***"
   ]
  },
  {
   "cell_type": "markdown",
   "metadata": {},
   "source": [
    "#### **Would this work?**\n",
    "**இது வேலை செய்யுமா?**"
   ]
  },
  {
   "cell_type": "markdown",
   "metadata": {},
   "source": [
    "***"
   ]
  },
  {
   "cell_type": "markdown",
   "metadata": {},
   "source": [
    "#### **If instead,**\n",
    "**அதற்கு பதிலாக,**"
   ]
  },
  {
   "cell_type": "markdown",
   "metadata": {},
   "source": [
    "***"
   ]
  },
  {
   "cell_type": "markdown",
   "metadata": {},
   "source": [
    "#### **For that, we will have to use**\n",
    "**அதற்காக, நாம் பயன்படுத்த வேண்டியிருக்கும்**"
   ]
  },
  {
   "cell_type": "markdown",
   "metadata": {},
   "source": [
    "***"
   ]
  },
  {
   "cell_type": "markdown",
   "metadata": {},
   "source": [
    "#### **said to be**\n",
    "**என்று கூறப்படுகிறது**\n",
    "\n",
    "> <p style=\"color:brown;\"><b> A function said to be. <br></br>ஒரு செயல்பாடு என்று கூறப்படுகிறது.</b></p>\n",
    "\n",
    "\n",
    "\n"
   ]
  },
  {
   "cell_type": "markdown",
   "metadata": {},
   "source": [
    "***"
   ]
  },
  {
   "cell_type": "markdown",
   "metadata": {},
   "source": [
    "#### **so as you see**\n",
    "**நீங்கள் பார்ப்பது போல்**\n",
    "\n",
    "> <p style=\"color:brown;\"><b>so as you see in this picture.<br></br>இந்த படத்தில் நீங்கள் பார்ப்பது போல.</b></p>"
   ]
  },
  {
   "cell_type": "markdown",
   "metadata": {},
   "source": [
    "***"
   ]
  },
  {
   "cell_type": "markdown",
   "metadata": {},
   "source": [
    "#### **so**\n",
    "**எனவே**\n",
    "\n",
    "> <p style=\"color:brown;\"><b>so let's be positive.\n",
    ".<br></br>எனவே நேர்மறையாக இருப்போம்.</b></p>\n"
   ]
  },
  {
   "cell_type": "markdown",
   "metadata": {},
   "source": [
    "***"
   ]
  },
  {
   "cell_type": "markdown",
   "metadata": {},
   "source": [
    "#### **Anyone would  not find my MAC address.**\n",
    "**என் MAC முகவரியை யாரும் கண்டுபிடிக்க முடியாது.**\n"
   ]
  },
  {
   "cell_type": "markdown",
   "metadata": {},
   "source": [
    "***"
   ]
  },
  {
   "cell_type": "markdown",
   "metadata": {},
   "source": [
    "#### **presumed to be in CSV format**\n",
    "**CSV வடிவத்தில் இருப்பதாக கருதப்படுகிறது**\n"
   ]
  },
  {
   "cell_type": "markdown",
   "metadata": {},
   "source": [
    "***"
   ]
  },
  {
   "cell_type": "markdown",
   "metadata": {},
   "source": [
    "#### **i was just wondering**\n",
    "**நான் யோசித்துக்கொண்டிருந்தேன் .**\n"
   ]
  },
  {
   "cell_type": "markdown",
   "metadata": {},
   "source": [
    "****"
   ]
  },
  {
   "cell_type": "markdown",
   "metadata": {},
   "source": [
    "#### **if so**\n",
    "**அப்படிஎன்றால்**\n",
    "\n",
    "**OR**\n",
    "\n",
    "**அப்படினா**\n",
    "\n",
    "> <p style=\"color:brown;\"><b>if so, you come with me.<br></br>அப்படியானால், நீங்கள் என்னுடன் வாருங்கள்.</b></p>\n"
   ]
  },
  {
   "cell_type": "markdown",
   "metadata": {},
   "source": [
    "***"
   ]
  },
  {
   "cell_type": "markdown",
   "metadata": {},
   "source": [
    "#### **Check whether**\n",
    "**சரிபார்க்கவும்**\n",
    "\n",
    "> <p style=\"color:brown;\"><b>1. Check whether casvfile has header or not.<br>\n",
    "Casvfile க்கு தலைப்பு இருக்கிறதா இல்லையா என்பதைச் சரிபார்க்கவும்.<br><br>\n",
    "2.Check whether he come or not.<br>\n",
    "அவர் வந்தாரா இல்லையா என்பதை சரிபார்க்கவும்.</p>\n"
   ]
  },
  {
   "cell_type": "markdown",
   "metadata": {},
   "source": [
    "****"
   ]
  },
  {
   "cell_type": "code",
   "execution_count": null,
   "metadata": {},
   "outputs": [],
   "source": []
  }
 ],
 "metadata": {
  "kernelspec": {
   "display_name": "Python 3",
   "language": "python",
   "name": "python3"
  },
  "language_info": {
   "codemirror_mode": {
    "name": "ipython",
    "version": 3
   },
   "file_extension": ".py",
   "mimetype": "text/x-python",
   "name": "python",
   "nbconvert_exporter": "python",
   "pygments_lexer": "ipython3",
   "version": "3.6.9"
  }
 },
 "nbformat": 4,
 "nbformat_minor": 2
}
