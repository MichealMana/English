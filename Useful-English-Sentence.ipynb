{
 "cells": [
  {
   "cell_type": "markdown",
   "metadata": {},
   "source": [
    "&nbsp;"
   ]
  },
  {
   "cell_type": "markdown",
   "metadata": {},
   "source": [
    "<h3 align=\"center\"><b>Frequently Used English Sentences.</b></h3> "
   ]
  },
  {
   "cell_type": "markdown",
   "metadata": {},
   "source": [
    "&nbsp;"
   ]
  },
  {
   "cell_type": "markdown",
   "metadata": {},
   "source": [
    "***"
   ]
  },
  {
   "cell_type": "markdown",
   "metadata": {},
   "source": [
    "### **will be**\n",
    "\n",
    "> #### **You'll be notified.**\n",
    "**உங்களுக்கு அறிவிக்கப்படும்.**"
   ]
  },
  {
   "cell_type": "markdown",
   "metadata": {},
   "source": [
    "***"
   ]
  },
  {
   "cell_type": "markdown",
   "metadata": {},
   "source": [
    "### **won't be**\n",
    "\n",
    "> #### **You won't be able to see that.**\n",
    "**நீங்கள் அதை பார்க்க முடியாது.**\n"
   ]
  },
  {
   "cell_type": "markdown",
   "metadata": {},
   "source": [
    "### **being**\n",
    "\n",
    "> #### **Global internet being attacked by shark**\n",
    "**உலகளாவிய இணையம் சுறா மூலம் தாக்கப்படுகிறது.**\n"
   ]
  },
  {
   "cell_type": "markdown",
   "metadata": {},
   "source": [
    "***"
   ]
  },
  {
   "cell_type": "markdown",
   "metadata": {},
   "source": [
    "### **dosen't**\n",
    ">#### **it doesn't make good programmer.**\n",
    "**இது நல்ல புரோகிராமரை உருவாக்காது**\n",
    "\n",
    "> #### **that file doesn't in ubuntu.**\n",
    "**அந்த கோப்பு உபுண்டுவில் இல்லை.**\n",
    "\n",
    "> #### **Why doesn't anything show up in the bottom portion when I run machine**\n",
    "**நான் இயந்திரத்தை இயக்கும்போது ஏன் கீழ் பகுதியில் எதுவும் காண்பிக்கப்படவில்லை**\n",
    "\n"
   ]
  },
  {
   "cell_type": "markdown",
   "metadata": {},
   "source": [
    "***"
   ]
  },
  {
   "cell_type": "markdown",
   "metadata": {},
   "source": [
    "### **is used**\n",
    ">#### **It is used to deduce the format of a CSV file.**\n",
    "**இது ஒரு CSV கோப்பின் வடிவமைப்பைக் குறைக்கப் பயன்படுகிறது.**\n",
    "\n"
   ]
  },
  {
   "cell_type": "markdown",
   "metadata": {},
   "source": [
    "***"
   ]
  },
  {
   "cell_type": "markdown",
   "metadata": {},
   "source": [
    "### **Would**\n",
    "> #### **Would it work?**\n",
    "**அது வேலை செய்யுமா?**\n",
    "> #### **Would this work?**\n",
    "**இது வேலை செய்யுமா?**"
   ]
  },
  {
   "cell_type": "markdown",
   "metadata": {},
   "source": [
    "****"
   ]
  },
  {
   "cell_type": "markdown",
   "metadata": {},
   "source": [
    "### **would  not**\n",
    "> #### **Anyone would  not find my MAC address.**\n",
    "**என் MAC முகவரியை யாரும் கண்டுபிடிக்க முடியாது.**\n"
   ]
  },
  {
   "cell_type": "markdown",
   "metadata": {},
   "source": [
    "### **"
   ]
  },
  {
   "cell_type": "markdown",
   "metadata": {},
   "source": [
    "***"
   ]
  },
  {
   "cell_type": "markdown",
   "metadata": {},
   "source": [
    "### **If instead,**\n",
    "#### **If instead,**\n",
    "**அதற்கு பதிலாக,**"
   ]
  },
  {
   "cell_type": "markdown",
   "metadata": {},
   "source": [
    "***"
   ]
  },
  {
   "cell_type": "markdown",
   "metadata": {},
   "source": [
    "### **For that,**\n",
    "#### **For that, we will have to use**\n",
    "**அதற்காக, நாம் பயன்படுத்த வேண்டியிருக்கும்**"
   ]
  },
  {
   "cell_type": "markdown",
   "metadata": {},
   "source": [
    "***"
   ]
  },
  {
   "cell_type": "markdown",
   "metadata": {},
   "source": [
    "### **said to be**\n",
    "**என்று கூறப்படுகிறது**\n",
    "\n",
    "> <p style=\"color:brown;\"><b> A function said to be. <br></br>ஒரு செயல்பாடு என்று கூறப்படுகிறது.</b></p>\n",
    "\n",
    "\n",
    "\n"
   ]
  },
  {
   "cell_type": "markdown",
   "metadata": {},
   "source": [
    "***"
   ]
  },
  {
   "cell_type": "markdown",
   "metadata": {},
   "source": [
    "#### **so as you see**\n",
    "**நீங்கள் பார்ப்பது போல்**\n",
    "\n",
    "> <p style=\"color:brown;\"><b>so as you see in this picture.<br></br>இந்த படத்தில் நீங்கள் பார்ப்பது போல.</b></p>"
   ]
  },
  {
   "cell_type": "markdown",
   "metadata": {},
   "source": [
    "***"
   ]
  },
  {
   "cell_type": "markdown",
   "metadata": {},
   "source": [
    "### **so**\n",
    "**எனவே**\n",
    "\n",
    "> <p style=\"color:brown;\"><b>so let's be positive.\n",
    ".<br></br>எனவே நேர்மறையாக இருப்போம்.</b></p>\n"
   ]
  },
  {
   "cell_type": "markdown",
   "metadata": {},
   "source": [
    "***"
   ]
  },
  {
   "cell_type": "markdown",
   "metadata": {},
   "source": [
    "### **hence of**\n",
    "**எனவே**\n"
   ]
  },
  {
   "cell_type": "markdown",
   "metadata": {},
   "source": [
    "***"
   ]
  },
  {
   "cell_type": "markdown",
   "metadata": {},
   "source": [
    "### **If so**\n",
    "**அப்படிஎன்றால்**\n",
    "\n",
    "**OR**\n",
    "\n",
    "**அப்படினா**\n",
    "\n",
    "> <p style=\"color:brown;\"><b>if so, you come with me.<br></br>அப்படியானால், நீங்கள் என்னுடன் வாருங்கள்.</b></p>\n"
   ]
  },
  {
   "cell_type": "markdown",
   "metadata": {},
   "source": [
    "***"
   ]
  },
  {
   "cell_type": "markdown",
   "metadata": {},
   "source": [
    "### **Check whether**\n",
    "**சரிபார்க்கவும்**\n",
    "\n",
    "> <p style=\"color:brown;\"><b>1. Check whether casvfile has header or not.<br>\n",
    "Casvfile க்கு தலைப்பு இருக்கிறதா இல்லையா என்பதைச் சரிபார்க்கவும்.<br><br>\n",
    "2.Check whether he come or not.<br>\n",
    "அவர் வந்தாரா இல்லையா என்பதை சரிபார்க்கவும்.</p>\n"
   ]
  },
  {
   "cell_type": "markdown",
   "metadata": {},
   "source": [
    "****"
   ]
  },
  {
   "cell_type": "markdown",
   "metadata": {},
   "source": [
    "###  **What if**\n",
    "\n",
    "> <p style=\"color:brown;font-size:16px;font-weight:bolder\"><b>1. What if we want to print the some random middle character?</p>\n",
    "  <p style=\"color:balck;font-size:14px;font-weight:bolder\"><b>\n",
    "  சில சீரற்ற நடுத்தர எழுத்தை அச்சிட விரும்பினால் என்ன செய்வது?</p>\n",
    "<br>\n",
    "<br>\n",
    "> <p style=\"color:brown;font-size:16px;font-weight:bolder\"><b> 2. What do if she want to marry him?<br></p>\n",
    "  <p style=\"color:black;font-size:14px;font-weight:bolder\"><b>அவள் அவனை திருமணம் செய்ய விரும்பினால் என்ன செய்வது?</p>"
   ]
  },
  {
   "cell_type": "markdown",
   "metadata": {},
   "source": [
    "***"
   ]
  },
  {
   "cell_type": "markdown",
   "metadata": {},
   "source": [
    "### **can't**\n",
    ">#### **Can't see what is wrong here.**\n",
    "**என்ன தவறு என்று இங்கே பார்க்க முடியவில்லை.**"
   ]
  },
  {
   "cell_type": "markdown",
   "metadata": {},
   "source": [
    "***"
   ]
  },
  {
   "cell_type": "markdown",
   "metadata": {},
   "source": [
    "### **As far as**\n",
    " > #### **1. As far as i know**\n",
    "**எனக்கு தெரிந்தவரையில்**\n",
    "\n",
    "> #### **2. As far as I've read it**\n",
    "**நான் அதைப் படித்தவரை**\n"
   ]
  },
  {
   "cell_type": "markdown",
   "metadata": {},
   "source": [
    "***"
   ]
  },
  {
   "cell_type": "markdown",
   "metadata": {},
   "source": [
    "### **So far**\n",
    "> #### **so far i know**\n",
    "**இதுவரை எனக்கு தெரியும்**"
   ]
  },
  {
   "cell_type": "markdown",
   "metadata": {},
   "source": [
    "***"
   ]
  },
  {
   "cell_type": "markdown",
   "metadata": {},
   "source": [
    "### **So for**\n",
    ">#### **so for i know**\n",
    "**அதனால் எனக்குத் தெரியும்**"
   ]
  },
  {
   "cell_type": "markdown",
   "metadata": {},
   "source": [
    "***"
   ]
  },
  {
   "cell_type": "markdown",
   "metadata": {},
   "source": [
    "### **to as  |  to be**\n",
    ">#### **Convert Unicode point to as Character**\n",
    "**யூனிகோட் புள்ளியை கேரக்டராக மாற்றவும்**\n",
    "\n",
    "**OR**\n",
    "\n",
    ">#### **Convert Unicode point to be Character**\n",
    "**யூனிகோட் புள்ளியை கேரக்டராக மாற்றவும்**\n",
    "\n",
    "> #### **presumed to be in CSV format**\n",
    "**CSV வடிவத்தில் இருப்பதாக கருதப்படுகிறது**\n",
    "\n",
    "> #### **appears to be best.**\n",
    "**சிறந்ததாக தோன்றுகிறது.**\n",
    "\n"
   ]
  },
  {
   "cell_type": "markdown",
   "metadata": {},
   "source": [
    "***"
   ]
  },
  {
   "cell_type": "markdown",
   "metadata": {},
   "source": [
    "### **In order to**\n",
    "\n",
    "> #### **In order to separate characters in the entries, we use that.**\n",
    "**உள்ளீடுகளில் எழுத்துக்களை பிரிக்க, அதைப் பயன்படுத்துகிறோம்.**\n",
    "\n",
    "\n"
   ]
  },
  {
   "cell_type": "markdown",
   "metadata": {},
   "source": [
    "***"
   ]
  },
  {
   "cell_type": "markdown",
   "metadata": {},
   "source": [
    "### **After that**\n",
    "> #### **After that you can install it.**\n",
    "**அதன் பிறகு நீங்கள் அதை நிறுவலாம்**"
   ]
  },
  {
   "cell_type": "markdown",
   "metadata": {},
   "source": [
    "***"
   ]
  },
  {
   "cell_type": "markdown",
   "metadata": {},
   "source": [
    "### **since**\n",
    "\n",
    "> #### **1. Since we allow to him, he will survival**\n",
    "> **நாம் அவரை அனுமதிப்பதால், அவர் பிழைப்பார்.**\n",
    "\n",
    "\n",
    "> #### **2. Since we teach, he will get a job.**\n",
    "> **நாங்கள் கற்பிப்பதால், அவருக்கு வேலை கிடைக்கும்.**\n"
   ]
  },
  {
   "cell_type": "markdown",
   "metadata": {},
   "source": [
    "***"
   ]
  },
  {
   "cell_type": "markdown",
   "metadata": {},
   "source": [
    "### **However**\n",
    "**எனினும் or இருப்பினும்**\n",
    "> #### **However if it is**\n",
    "> **இருப்பினும் அது இருந்தால்**\n",
    "\n"
   ]
  },
  {
   "cell_type": "markdown",
   "metadata": {},
   "source": [
    "### **Whenever**\n",
    "\n",
    "> #### **whenever that picture is seen**\n",
    "**அந்த படம் பார்க்கும்போதெல்லாம்**\n",
    "\n",
    "> #### **whenever i need**\n",
    "**எனக்கு தேவையான போதெல்லாம்**\n",
    "\n",
    "> #### **whenever you need**\n",
    "**உங்களுக்கு தேவையான போதெல்லாம்**\n",
    "\n",
    "> #### **whenever i use**\n",
    "**நான் பயன்படுத்தும் போதெல்லாம்**\n",
    "\n",
    "\n"
   ]
  },
  {
   "cell_type": "markdown",
   "metadata": {},
   "source": [
    "***"
   ]
  },
  {
   "cell_type": "markdown",
   "metadata": {},
   "source": [
    "### **Even if**\n",
    "**இருந்தாலும் or இருந்தபோதிலும்**\n",
    "\n",
    "> #### **1. Most Hindus in Malaysia speak Tamil , even if they are Gujarati or Telegu.**\n",
    "**மலேசியாவில் உள்ள பெரும்பாலான இந்துக்கள் குஜராத்தி அல்லது தெலுங்காக இருந்தாலும் தமிழ் பேசுகிறார்கள்.**\n",
    "\n",
    ">#### **2. Even if  it is True, Which may still fail**\n",
    "**அது உண்மயா  இருந்தாலும், அது இன்னும் தோல்வியடையக்கூடும்**\n",
    "\n"
   ]
  },
  {
   "cell_type": "markdown",
   "metadata": {},
   "source": [
    "***"
   ]
  },
  {
   "cell_type": "markdown",
   "metadata": {},
   "source": [
    "### **somehow**\n",
    "**எப்படியோ**\n"
   ]
  },
  {
   "cell_type": "markdown",
   "metadata": {},
   "source": [
    "***"
   ]
  },
  {
   "cell_type": "markdown",
   "metadata": {},
   "source": [
    "## **Sentences**"
   ]
  },
  {
   "cell_type": "markdown",
   "metadata": {},
   "source": [
    "> #### **I make toy every friday**\n",
    "**ஒவ்வொரு வெள்ளிக்கிழமையும் நான் பொம்மை செய்கிறேன்**"
   ]
  },
  {
   "cell_type": "markdown",
   "metadata": {},
   "source": [
    "***"
   ]
  },
  {
   "cell_type": "markdown",
   "metadata": {},
   "source": [
    "> #### **it will certainly fail**\n",
    "**அது நிச்சயமாக தோல்வியடையும்**"
   ]
  },
  {
   "cell_type": "markdown",
   "metadata": {},
   "source": [
    "***"
   ]
  },
  {
   "cell_type": "markdown",
   "metadata": {},
   "source": [
    "> #### **he will read all the stuff**\n",
    "**அவர் எல்லாவற்றையும் படிப்பார்**\n",
    "\n",
    "> #### **i will read all the stuff**\n",
    "**நான் எல்லாவற்றையும் படிப்பேன்**"
   ]
  },
  {
   "cell_type": "code",
   "execution_count": null,
   "metadata": {},
   "outputs": [],
   "source": []
  }
 ],
 "metadata": {
  "kernelspec": {
   "display_name": "Python 3",
   "language": "python",
   "name": "python3"
  },
  "language_info": {
   "codemirror_mode": {
    "name": "ipython",
    "version": 3
   },
   "file_extension": ".py",
   "mimetype": "text/x-python",
   "name": "python",
   "nbconvert_exporter": "python",
   "pygments_lexer": "ipython3",
   "version": "3.6.9"
  }
 },
 "nbformat": 4,
 "nbformat_minor": 2
}
